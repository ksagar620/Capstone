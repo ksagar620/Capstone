{
 "cells": [
  {
   "cell_type": "markdown",
   "id": "01ce530c",
   "metadata": {},
   "source": [
    "# Task 2.2: Data Analysis using Big Data tools"
   ]
  },
  {
   "cell_type": "markdown",
   "id": "1bf2714d",
   "metadata": {},
   "source": [
    "### Loading data into PySpark"
   ]
  },
  {
   "cell_type": "code",
   "execution_count": 29,
   "id": "72721877",
   "metadata": {
    "scrolled": true
   },
   "outputs": [],
   "source": [
    "import findspark\n",
    "findspark.init('/usr/local/spark')\n",
    "import pyspark\n",
    "from pyspark.sql import HiveContext\n",
    "from pyspark.sql.types import *\n",
    "from pyspark.sql.functions import *\n",
    "from pyspark.sql import Row\n",
    "from pyspark.sql import functions as F\n",
    "from pyspark.sql.functions import countDistinct\n",
    "from pyspark.sql.functions import col,isnan, when, count\n",
    "from pyspark.sql.types import StructType, StructField, StringType, IntegerType"
   ]
  },
  {
   "cell_type": "code",
   "execution_count": 2,
   "id": "85d951a1",
   "metadata": {},
   "outputs": [],
   "source": [
    "from pyspark.sql import SparkSession\n",
    "spark = SparkSession \\\n",
    "    .builder \\\n",
    "    .appName(\"capstone_checkpoint_two\") \\\n",
    "    .getOrCreate()"
   ]
  },
  {
   "cell_type": "code",
   "execution_count": 3,
   "id": "2d1674be",
   "metadata": {},
   "outputs": [
    {
     "name": "stdout",
     "output_type": "stream",
     "text": [
      "root\n",
      " |-- Sno: integer (nullable = true)\n",
      " |-- Candidate_Ref: integer (nullable = true)\n",
      " |-- DOJ_Extended: string (nullable = true)\n",
      " |-- Duration_to_accept_offer: integer (nullable = true)\n",
      " |-- Notice_Period: integer (nullable = true)\n",
      " |-- Offered_Band: string (nullable = true)\n",
      " |-- Percent_hike_expected_in_CTC: double (nullable = true)\n",
      " |-- Percent_hike_offered_in_CTC: double (nullable = true)\n",
      " |-- Percent_difference_CTC: double (nullable = true)\n",
      " |-- Joining_Bonus: string (nullable = true)\n",
      " |-- Candidate_relocate_actual: string (nullable = true)\n",
      " |-- Gender: string (nullable = true)\n",
      " |-- Candidate_Source: string (nullable = true)\n",
      " |-- Rex_in_Yrs: integer (nullable = true)\n",
      " |-- Location_ID: string (nullable = true)\n",
      " |-- Postal_Code: integer (nullable = true)\n",
      " |-- Age: integer (nullable = true)\n",
      " |-- LOB_Id: integer (nullable = true)\n",
      " |-- Domicile_Id: string (nullable = true)\n",
      "\n"
     ]
    }
   ],
   "source": [
    "data = spark.read.csv('hdfs://localhost:54310/capstone1/HR_raw.csv', inferSchema=\"true\", header=\"true\")\n",
    "data.printSchema()"
   ]
  },
  {
   "cell_type": "code",
   "execution_count": 4,
   "id": "f7944d39",
   "metadata": {},
   "outputs": [
    {
     "name": "stdout",
     "output_type": "stream",
     "text": [
      "+--------+---------+-----------+\n",
      "|database|tableName|isTemporary|\n",
      "+--------+---------+-----------+\n",
      "+--------+---------+-----------+\n",
      "\n"
     ]
    }
   ],
   "source": [
    "spark.sql('show tables').show()"
   ]
  },
  {
   "cell_type": "code",
   "execution_count": 5,
   "id": "0bdb001c",
   "metadata": {},
   "outputs": [
    {
     "name": "stdout",
     "output_type": "stream",
     "text": [
      "+------------+\n",
      "|databaseName|\n",
      "+------------+\n",
      "|         db1|\n",
      "|     default|\n",
      "+------------+\n",
      "\n"
     ]
    }
   ],
   "source": [
    "spark.sql(\"CREATE DATABASE IF NOT EXISTS db1\")\n",
    "db=spark.sql(\"show databases\")\n",
    "db.show()"
   ]
  },
  {
   "cell_type": "code",
   "execution_count": 6,
   "id": "c85d122a",
   "metadata": {
    "scrolled": true
   },
   "outputs": [
    {
     "name": "stdout",
     "output_type": "stream",
     "text": [
      "+---+-------------+------------+------------------------+-------------+------------+----------------------------+---------------------------+----------------------+-------------+-------------------------+------+-----------------+----------+-----------+-----------+---+------+-----------+\n",
      "|Sno|Candidate_Ref|DOJ_Extended|Duration_to_accept_offer|Notice_Period|Offered_Band|Percent_hike_expected_in_CTC|Percent_hike_offered_in_CTC|Percent_difference_CTC|Joining_Bonus|Candidate_relocate_actual|Gender| Candidate_Source|Rex_in_Yrs|Location_ID|Postal_Code|Age|LOB_Id|Domicile_Id|\n",
      "+---+-------------+------------+------------------------+-------------+------------+----------------------------+---------------------------+----------------------+-------------+-------------------------+------+-----------------+----------+-----------+-----------+---+------+-----------+\n",
      "|  1|      2110407|         Yes|                      14|           30|          E2|                      -20.79|                      13.16|                 42.86|           No|                       No|Female|           Agency|         7|       L001|     201301| 34|     1|         D6|\n",
      "|  2|      2112635|          No|                      18|           30|          E2|                        50.0|                      320.0|                 180.0|           No|                       No|  Male|Employee Referral|         8|       L002|     600020| 34|     2|         D9|\n",
      "|  3|      2112838|          No|                       3|           45|          E2|                       42.84|                      42.84|                   0.0|           No|                       No|  Male|           Agency|         4|       L001|     201301| 27|     2|        D10|\n",
      "|  4|      2115021|          No|                      26|           30|          E2|                       42.84|                      42.84|                   0.0|           No|                       No|  Male|Employee Referral|         4|       L001|     201301| 34|     2|         D3|\n",
      "|  5|      2115125|         Yes|                       1|          120|          E2|                       42.59|                      42.59|                   0.0|           No|                      Yes|  Male|Employee Referral|         6|       L001|     201301| 34|     2|        D21|\n",
      "|  6|      2117167|         Yes|                      17|           30|          E1|                       42.83|                      42.83|                   0.0|           No|                       No|  Male|Employee Referral|         2|       L001|     201301| 34|     2|        D24|\n",
      "|  7|      2119124|         Yes|                      37|           30|          E2|                       31.58|                      31.58|                   0.0|           No|                       No|  Male|Employee Referral|         7|       L001|     201301| 32|     2|        D23|\n",
      "|  9|      2127572|         Yes|                      16|            0|          E1|                       -20.0|                      -20.0|                   0.0|           No|                       No|Female|           Direct|         8|       L001|     201301| 34|     3|         D6|\n",
      "| 11|      2138169|          No|                       1|           30|          E1|                      -22.22|                     -22.22|                   0.0|           No|                       No|Female|Employee Referral|         3|       L003|     122107| 26|     4|         D5|\n",
      "| 12|      2143362|          No|                       6|           30|          E1|                       240.0|                      220.0|                 -5.88|           No|                       No|  Male|Employee Referral|         3|       L002|     600020| 34|     5|        D23|\n",
      "| 13|      2151180|          No|                     120|           30|          E2|                        5.26|                     -60.53|                 -62.5|           No|                       No|  Male|Employee Referral|         3|       L001|     201301| 34|     2|         D6|\n",
      "| 14|      2154264|          No|                       3|            0|          E2|                       28.21|                      37.18|                   7.0|           No|                       No|  Male|Employee Referral|         7|       L002|     600020| 34|     2|         D3|\n",
      "| 15|      2156236|         Yes|                      14|           30|          E2|                        50.0|                      287.5|                158.33|           No|                       No|  Male|           Agency|         7|       L001|     201301| 29|     2|        D13|\n",
      "| 16|      2158703|          No|                      44|           75|          E2|                       45.45|                       60.0|                  10.0|           No|                       No|  Male|           Direct|         8|       L001|     201301| 34|     2|        D13|\n",
      "| 17|      2161257|          No|                       7|           30|          E3|                       53.85|                       50.0|                  -2.5|           No|                       No|  Male|Employee Referral|         5|       L001|     201301| 34|     2|         D9|\n",
      "| 18|      2162487|          No|                       1|           30|          E3|                      -27.31|                     -27.31|                   0.0|           No|                       No|  Male|           Direct|        18|       L004|     560034| 34|     6|        D13|\n",
      "| 19|      2166041|         Yes|                      98|           30|          E2|                        50.0|                     165.36|                 76.91|           No|                       No|  Male|           Agency|         8|       L001|     201301| 36|     2|         D4|\n",
      "| 20|      2172982|          No|                       1|            0|          E2|                        30.0|                       30.0|                   0.0|           No|                       No|  Male|           Direct|         6|       L001|     201301| 34|     2|        D13|\n",
      "| 21|      2173730|          No|                       1|           30|          E1|                      -13.42|                      42.86|                  65.0|           No|                       No|  Male|           Direct|         1|       L003|     122107| 34|     2|         D7|\n",
      "| 22|      2175237|          No|                       7|           30|          E1|                      221.43|                     164.29|                -17.78|           No|                       No|  Male|           Direct|         2|       L001|     201301| 34|     1|        D21|\n",
      "+---+-------------+------------+------------------------+-------------+------------+----------------------------+---------------------------+----------------------+-------------+-------------------------+------+-----------------+----------+-----------+-----------+---+------+-----------+\n",
      "only showing top 20 rows\n",
      "\n"
     ]
    }
   ],
   "source": [
    "data.write.mode(\"overwrite\").saveAsTable(\"db1.table1\")\n",
    "table=spark.sql('select * from db1.table1')\n",
    "table.show()"
   ]
  },
  {
   "cell_type": "code",
   "execution_count": 7,
   "id": "097bd059",
   "metadata": {},
   "outputs": [
    {
     "name": "stdout",
     "output_type": "stream",
     "text": [
      "root\n",
      " |-- Sno: integer (nullable = true)\n",
      " |-- Candidate_Ref: integer (nullable = true)\n",
      " |-- DOJ_Extended: string (nullable = true)\n",
      " |-- Duration_to_accept_offer: integer (nullable = true)\n",
      " |-- Notice_Period: integer (nullable = true)\n",
      " |-- Offered_Band: string (nullable = true)\n",
      " |-- Percent_hike_expected_in_CTC: double (nullable = true)\n",
      " |-- Percent_hike_offered_in_CTC: double (nullable = true)\n",
      " |-- Percent_difference_CTC: double (nullable = true)\n",
      " |-- Joining_Bonus: string (nullable = true)\n",
      " |-- Candidate_relocate_actual: string (nullable = true)\n",
      " |-- Gender: string (nullable = true)\n",
      " |-- Candidate_Source: string (nullable = true)\n",
      " |-- Rex_in_Yrs: integer (nullable = true)\n",
      " |-- Location_ID: string (nullable = true)\n",
      " |-- Postal_Code: integer (nullable = true)\n",
      " |-- Age: integer (nullable = true)\n",
      " |-- LOB_Id: integer (nullable = true)\n",
      " |-- Domicile_Id: string (nullable = true)\n",
      "\n"
     ]
    }
   ],
   "source": [
    "table.printSchema()"
   ]
  },
  {
   "cell_type": "code",
   "execution_count": null,
   "id": "a9d10ff8",
   "metadata": {},
   "outputs": [],
   "source": []
  },
  {
   "cell_type": "code",
   "execution_count": 8,
   "id": "127d6e25",
   "metadata": {},
   "outputs": [],
   "source": [
    "df=spark.sql('select * from db1.table1')"
   ]
  },
  {
   "cell_type": "code",
   "execution_count": 9,
   "id": "a8f525b9",
   "metadata": {},
   "outputs": [
    {
     "name": "stdout",
     "output_type": "stream",
     "text": [
      "+---+-------------+------------+------------------------+-------------+------------+----------------------------+---------------------------+----------------------+-------------+-------------------------+------+----------------+----------+-----------+-----------+---+------+-----------+\n",
      "|Sno|Candidate_Ref|DOJ_Extended|Duration_to_accept_offer|Notice_Period|Offered_Band|Percent_hike_expected_in_CTC|Percent_hike_offered_in_CTC|Percent_difference_CTC|Joining_Bonus|Candidate_relocate_actual|Gender|Candidate_Source|Rex_in_Yrs|Location_ID|Postal_Code|Age|LOB_Id|Domicile_Id|\n",
      "+---+-------------+------------+------------------------+-------------+------------+----------------------------+---------------------------+----------------------+-------------+-------------------------+------+----------------+----------+-----------+-----------+---+------+-----------+\n",
      "|  0|            0|           0|                       0|            0|          13|                           0|                          0|                     0|            0|                        0|     0|               0|         0|          0|          0| 15|     0|          0|\n",
      "+---+-------------+------------+------------------------+-------------+------------+----------------------------+---------------------------+----------------------+-------------+-------------------------+------+----------------+----------+-----------+-----------+---+------+-----------+\n",
      "\n"
     ]
    }
   ],
   "source": [
    "df.select([count(when(isnan(c) | col(c).isNull(), c)).alias(c) for c in df.columns]).show()"
   ]
  },
  {
   "cell_type": "code",
   "execution_count": 10,
   "id": "61257b3b",
   "metadata": {
    "scrolled": false
   },
   "outputs": [
    {
     "name": "stdout",
     "output_type": "stream",
     "text": [
      "+---+-------------+------------+------------------------+-------------+------------+----------------------------+---------------------------+----------------------+-------------+-------------------------+------+----------------+----------+-----------+-----------+---+------+-----------+\n",
      "|Sno|Candidate_Ref|DOJ_Extended|Duration_to_accept_offer|Notice_Period|Offered_Band|Percent_hike_expected_in_CTC|Percent_hike_offered_in_CTC|Percent_difference_CTC|Joining_Bonus|Candidate_relocate_actual|Gender|Candidate_Source|Rex_in_Yrs|Location_ID|Postal_Code|Age|LOB_Id|Domicile_Id|\n",
      "+---+-------------+------------+------------------------+-------------+------------+----------------------------+---------------------------+----------------------+-------------+-------------------------+------+----------------+----------+-----------+-----------+---+------+-----------+\n",
      "|  0|            0|           0|                       0|            0|          13|                           0|                          0|                     0|            0|                        0|     0|               0|         0|          0|          0| 15|     0|          0|\n",
      "+---+-------------+------------+------------------------+-------------+------------+----------------------------+---------------------------+----------------------+-------------+-------------------------+------+----------------+----------+-----------+-----------+---+------+-----------+\n",
      "\n"
     ]
    }
   ],
   "source": [
    "df2 = df.select([count(when(col(c).contains('None') | \\\n",
    "                            col(c).contains('NULL') | \\\n",
    "                            (col(c) == '' ) | \\\n",
    "                            col(c).isNull() | \\\n",
    "                            isnan(c), c \n",
    "                           )).alias(c)\n",
    "                    for c in df.columns])\n",
    "df2.show()"
   ]
  },
  {
   "cell_type": "code",
   "execution_count": 22,
   "id": "4f57a178",
   "metadata": {},
   "outputs": [
    {
     "name": "stdout",
     "output_type": "stream",
     "text": [
      "+-------------+\n",
      "|Candidate_Ref|\n",
      "+-------------+\n",
      "|      2207823|\n",
      "|      2286381|\n",
      "|      2365129|\n",
      "|      2452418|\n",
      "|      2569520|\n",
      "|      2780669|\n",
      "|      2845929|\n",
      "|      3211382|\n",
      "|      3300563|\n",
      "|      3379843|\n",
      "|      3644811|\n",
      "|      2116859|\n",
      "|      2117861|\n",
      "|      2118480|\n",
      "|      2119541|\n",
      "|      2121112|\n",
      "|      2128251|\n",
      "|      2143765|\n",
      "|      2151137|\n",
      "|      2160044|\n",
      "+-------------+\n",
      "only showing top 20 rows\n",
      "\n"
     ]
    }
   ],
   "source": [
    "df3 = spark.sql(\"SELECT Candidate_Ref FROM DB1.Table1 where Age IS NULL OR Offered_Band IS NULL\").show()"
   ]
  },
  {
   "cell_type": "code",
   "execution_count": 14,
   "id": "6a1aa899",
   "metadata": {},
   "outputs": [
    {
     "name": "stdout",
     "output_type": "stream",
     "text": [
      "+-------+------------------+-----------------+------------+------------------------+------------------+------------+----------------------------+---------------------------+----------------------+-------------+-------------------------+------+-----------------+------------------+-----------+------------------+------------------+------------------+-----------+\n",
      "|summary|               Sno|    Candidate_Ref|DOJ_Extended|Duration_to_accept_offer|     Notice_Period|Offered_Band|Percent_hike_expected_in_CTC|Percent_hike_offered_in_CTC|Percent_difference_CTC|Joining_Bonus|Candidate_relocate_actual|Gender| Candidate_Source|        Rex_in_Yrs|Location_ID|       Postal_Code|               Age|            LOB_Id|Domicile_Id|\n",
      "+-------+------------------+-----------------+------------+------------------------+------------------+------------+----------------------------+---------------------------+----------------------+-------------+-------------------------+------+-----------------+------------------+-----------+------------------+------------------+------------------+-----------+\n",
      "|  count|              8995|             8995|        8995|                    8995|              8995|        8982|                        8995|                       8995|                  8995|         8995|                     8995|  8995|             8995|              8995|       8995|              8995|              8980|              8995|       8995|\n",
      "|   mean| 5970.984324624792|2843647.377765425|        null|      21.434463590883823| 39.29182879377432|        null|           43.86480377987742|          40.65735630906044|   -1.5738021122846075|         null|                     null|  null|             null| 4.239021678710395|       null|  453494.479266259|29.912026726057906|3.1130628126737077|       null|\n",
      "| stddev|3373.9634540786838|486344.7745519215|        null|      25.811615717050906|22.220239481838103|        null|           29.78897499097193|          36.06405981089342|    19.610728841580432|         null|                     null|  null|             null|2.5475706093546893|       null|180254.66118054854|4.0956992472101605|2.1259019490845583|       null|\n",
      "|    min|                 1|          2109586|          No|                       0|                 0|          E0|                      -68.83|                     -60.53|                -67.27|           No|                       No|Female|           Agency|                 0|       L001|            122107|                20|                 1|         D1|\n",
      "|    max|             12333|          3836076|         Yes|                     224|               120|          E3|                      359.77|                     471.43|                 300.0|          Yes|                      Yes|  Male|Employee Referral|                24|       Null|            700027|                60|                 9|         D9|\n",
      "+-------+------------------+-----------------+------------+------------------------+------------------+------------+----------------------------+---------------------------+----------------------+-------------+-------------------------+------+-----------------+------------------+-----------+------------------+------------------+------------------+-----------+\n",
      "\n"
     ]
    }
   ],
   "source": [
    "df.describe().show()"
   ]
  },
  {
   "cell_type": "code",
   "execution_count": 16,
   "id": "203ef904",
   "metadata": {},
   "outputs": [
    {
     "data": {
      "text/plain": [
       "8995"
      ]
     },
     "execution_count": 16,
     "metadata": {},
     "output_type": "execute_result"
    }
   ],
   "source": [
    "df.count()"
   ]
  },
  {
   "cell_type": "code",
   "execution_count": 21,
   "id": "9f5b33df",
   "metadata": {},
   "outputs": [
    {
     "name": "stdout",
     "output_type": "stream",
     "text": [
      "+-----------------------------+\n",
      "|count(DISTINCT Candidate_Ref)|\n",
      "+-----------------------------+\n",
      "|                         8995|\n",
      "+-----------------------------+\n",
      "\n"
     ]
    }
   ],
   "source": [
    "df.select(countDistinct(\"Candidate_Ref\")).show()"
   ]
  },
  {
   "cell_type": "code",
   "execution_count": 17,
   "id": "2e50d673",
   "metadata": {},
   "outputs": [
    {
     "name": "stdout",
     "output_type": "stream",
     "text": [
      "+----------------------------+\n",
      "|count(DISTINCT Offered_Band)|\n",
      "+----------------------------+\n",
      "|                           4|\n",
      "+----------------------------+\n",
      "\n"
     ]
    }
   ],
   "source": [
    "df.select(countDistinct(\"Offered_Band\")).show()"
   ]
  },
  {
   "cell_type": "code",
   "execution_count": 18,
   "id": "3a027dc9",
   "metadata": {},
   "outputs": [
    {
     "name": "stdout",
     "output_type": "stream",
     "text": [
      "+---------------------------+\n",
      "|count(DISTINCT Location_ID)|\n",
      "+---------------------------+\n",
      "|                         11|\n",
      "+---------------------------+\n",
      "\n"
     ]
    }
   ],
   "source": [
    "df.select(countDistinct(\"Location_ID\")).show()"
   ]
  },
  {
   "cell_type": "code",
   "execution_count": 19,
   "id": "15a95a1e",
   "metadata": {},
   "outputs": [
    {
     "name": "stdout",
     "output_type": "stream",
     "text": [
      "+----------------------+\n",
      "|count(DISTINCT LOB_ID)|\n",
      "+----------------------+\n",
      "|                     9|\n",
      "+----------------------+\n",
      "\n"
     ]
    }
   ],
   "source": [
    "df.select(countDistinct(\"LOB_ID\")).show()"
   ]
  },
  {
   "cell_type": "code",
   "execution_count": 20,
   "id": "f3340eab",
   "metadata": {},
   "outputs": [
    {
     "name": "stdout",
     "output_type": "stream",
     "text": [
      "+---------------------------+\n",
      "|count(DISTINCT Domicile_ID)|\n",
      "+---------------------------+\n",
      "|                         24|\n",
      "+---------------------------+\n",
      "\n"
     ]
    }
   ],
   "source": [
    "df.select(countDistinct(\"Domicile_ID\")).show()"
   ]
  },
  {
   "cell_type": "code",
   "execution_count": 25,
   "id": "5e4250cf",
   "metadata": {},
   "outputs": [],
   "source": [
    "df_1=spark.read.csv(\"hdfs://localhost:54310/capstone1/HR_raw.csv\",header=True,mode='DROPMALFORMED')"
   ]
  },
  {
   "cell_type": "code",
   "execution_count": 27,
   "id": "94ebb468",
   "metadata": {},
   "outputs": [
    {
     "data": {
      "text/plain": [
       "8995"
      ]
     },
     "execution_count": 27,
     "metadata": {},
     "output_type": "execute_result"
    }
   ],
   "source": [
    "df_1.count()"
   ]
  },
  {
   "cell_type": "code",
   "execution_count": 39,
   "id": "78e1252e",
   "metadata": {},
   "outputs": [
    {
     "name": "stdout",
     "output_type": "stream",
     "text": [
      "+---+-------------+------------+------------------------+-------------+-------------------+----------------------------+---------------------------+----------------------+-------------+-------------------------+------+----------------+----------+-----------+-----------+-------------------+------+-----------+\n",
      "|Sno|Candidate_Ref|DOJ_Extended|Duration_to_accept_offer|Notice_Period|       Offered_Band|Percent_hike_expected_in_CTC|Percent_hike_offered_in_CTC|Percent_difference_CTC|Joining_Bonus|Candidate_relocate_actual|Gender|Candidate_Source|Rex_in_Yrs|Location_ID|Postal_Code|                Age|LOB_Id|Domicile_Id|\n",
      "+---+-------------+------------+------------------------+-------------+-------------------+----------------------------+---------------------------+----------------------+-------------+-------------------------+------+----------------+----------+-----------+-----------+-------------------+------+-----------+\n",
      "|0.0|          0.0|         0.0|                     0.0|          0.0|0.14452473596442467|                         0.0|                        0.0|                   0.0|          0.0|                      0.0|   0.0|             0.0|       0.0|        0.0|        0.0|0.16675931072818231|   0.0|        0.0|\n",
      "+---+-------------+------------+------------------------+-------------+-------------------+----------------------------+---------------------------+----------------------+-------------+-------------------------+------+----------------+----------+-----------+-----------+-------------------+------+-----------+\n",
      "\n"
     ]
    }
   ],
   "source": [
    "amount_missing_df = df_1.select([(count(when(isnan(c) | col(c).isNull(), c))*100/count(lit(1))).alias(c) for c in df_1.columns])\n",
    "amount_missing_df.show()"
   ]
  },
  {
   "cell_type": "code",
   "execution_count": 32,
   "id": "5ad5cd2e",
   "metadata": {},
   "outputs": [],
   "source": [
    "nonulldf = df_1.na.drop()"
   ]
  },
  {
   "cell_type": "code",
   "execution_count": 34,
   "id": "6500b428",
   "metadata": {},
   "outputs": [
    {
     "name": "stdout",
     "output_type": "stream",
     "text": [
      "+---+-------------+------------+------------------------+-------------+------------+----------------------------+---------------------------+----------------------+-------------+-------------------------+------+----------------+----------+-----------+-----------+---+------+-----------+\n",
      "|Sno|Candidate_Ref|DOJ_Extended|Duration_to_accept_offer|Notice_Period|Offered_Band|Percent_hike_expected_in_CTC|Percent_hike_offered_in_CTC|Percent_difference_CTC|Joining_Bonus|Candidate_relocate_actual|Gender|Candidate_Source|Rex_in_Yrs|Location_ID|Postal_Code|Age|LOB_Id|Domicile_Id|\n",
      "+---+-------------+------------+------------------------+-------------+------------+----------------------------+---------------------------+----------------------+-------------+-------------------------+------+----------------+----------+-----------+-----------+---+------+-----------+\n",
      "|  0|            0|           0|                       0|            0|           0|                           0|                          0|                     0|            0|                        0|     0|               0|         0|          0|          0|  0|     0|          0|\n",
      "+---+-------------+------------+------------------------+-------------+------------+----------------------------+---------------------------+----------------------+-------------+-------------------------+------+----------------+----------+-----------+-----------+---+------+-----------+\n",
      "\n"
     ]
    }
   ],
   "source": [
    "nonulldf.select([count(when(col(c).contains('None') | \\\n",
    "                            col(c).contains('NULL') | \\\n",
    "                            (col(c) == '' ) | \\\n",
    "                            col(c).isNull() | \\\n",
    "                            isnan(c), c \n",
    "                           )).alias(c)\n",
    "                    for c in nonulldf.columns]).show()\n"
   ]
  },
  {
   "cell_type": "code",
   "execution_count": 35,
   "id": "63dd1437",
   "metadata": {},
   "outputs": [
    {
     "data": {
      "text/plain": [
       "8968"
      ]
     },
     "execution_count": 35,
     "metadata": {},
     "output_type": "execute_result"
    }
   ],
   "source": [
    "nonulldf.count()"
   ]
  },
  {
   "cell_type": "code",
   "execution_count": null,
   "id": "56a4fa0a",
   "metadata": {},
   "outputs": [],
   "source": []
  }
 ],
 "metadata": {
  "kernelspec": {
   "display_name": "Python 3 (ipykernel)",
   "language": "python",
   "name": "python3"
  },
  "language_info": {
   "codemirror_mode": {
    "name": "ipython",
    "version": 3
   },
   "file_extension": ".py",
   "mimetype": "text/x-python",
   "name": "python",
   "nbconvert_exporter": "python",
   "pygments_lexer": "ipython3",
   "version": "3.9.12"
  }
 },
 "nbformat": 4,
 "nbformat_minor": 5
}
