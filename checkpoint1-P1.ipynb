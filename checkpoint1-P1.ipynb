{
 "cells": [
  {
   "cell_type": "code",
   "execution_count": 2,
   "id": "7d69ec14",
   "metadata": {},
   "outputs": [],
   "source": [
    "import pandas as pd"
   ]
  },
  {
   "cell_type": "code",
   "execution_count": 3,
   "id": "42e91de4",
   "metadata": {},
   "outputs": [
    {
     "name": "stdout",
     "output_type": "stream",
     "text": [
      "        User_ID Product_ID City_Category Stay_In_Current_City_Years  \\\n",
      "0       1000001  P00069042             A                          2   \n",
      "1       1000001  P00248942             A                          2   \n",
      "2       1000001  P00087842             A                          2   \n",
      "3       1000001  P00085442             A                          2   \n",
      "4       1000002  P00285442             C                         4+   \n",
      "...         ...        ...           ...                        ...   \n",
      "550063  1006033  P00372445             B                          1   \n",
      "550064  1006035  P00375436             C                          3   \n",
      "550065  1006036  P00375436             B                         4+   \n",
      "550066  1006038  P00375436             C                          2   \n",
      "550067  1006039  P00371644             B                         4+   \n",
      "\n",
      "        Marital_Status  Product_Category_1  Product_Category_2  \\\n",
      "0                    0                   3                 NaN   \n",
      "1                    0                   1                 6.0   \n",
      "2                    0                  12                 NaN   \n",
      "3                    0                  12                14.0   \n",
      "4                    0                   8                 NaN   \n",
      "...                ...                 ...                 ...   \n",
      "550063               1                  20                 NaN   \n",
      "550064               0                  20                 NaN   \n",
      "550065               1                  20                 NaN   \n",
      "550066               0                  20                 NaN   \n",
      "550067               1                  20                 NaN   \n",
      "\n",
      "        Product_Category_3  Purchase  \n",
      "0                      NaN      8370  \n",
      "1                     14.0     15200  \n",
      "2                      NaN      1422  \n",
      "3                      NaN      1057  \n",
      "4                      NaN      7969  \n",
      "...                    ...       ...  \n",
      "550063                 NaN       368  \n",
      "550064                 NaN       371  \n",
      "550065                 NaN       137  \n",
      "550066                 NaN       365  \n",
      "550067                 NaN       490  \n",
      "\n",
      "[550068 rows x 9 columns]\n"
     ]
    }
   ],
   "source": [
    "df = pd.read_csv(r'C:\\Users\\sagarkumar4\\Documents\\Datasets\\Project_2_Retail_dataset- V2 04-07-2022\\User_product_purchase_details_p2.csv')\n",
    "print(df)"
   ]
  },
  {
   "cell_type": "code",
   "execution_count": 4,
   "id": "035320db",
   "metadata": {},
   "outputs": [
    {
     "name": "stdout",
     "output_type": "stream",
     "text": [
      "         Marital_Status  Product_Category_1  Product_Category_2  \\\n",
      "User_ID                                                           \n",
      "1000001               0                 213               132.0   \n",
      "1000002               0                 354               539.0   \n",
      "1000003               0                  93               117.0   \n",
      "1000004              14                  33               102.0   \n",
      "1000005             106                 659               642.0   \n",
      "...                 ...                 ...                 ...   \n",
      "1006036             514                3200              3403.0   \n",
      "1006037               0                 938               894.0   \n",
      "1006038               0                  83                93.0   \n",
      "1006039              74                 439               580.0   \n",
      "1006040               0                1141              1110.0   \n",
      "\n",
      "         Product_Category_3  Purchase  \n",
      "User_ID                                \n",
      "1000001               148.0    334093  \n",
      "1000002               359.0    810472  \n",
      "1000003               148.0    341635  \n",
      "1000004               127.0    206468  \n",
      "1000005               207.0    821001  \n",
      "...                     ...       ...  \n",
      "1006036              1509.0   4116058  \n",
      "1006037               456.0   1119538  \n",
      "1006038                51.0     90034  \n",
      "1006039               324.0    590319  \n",
      "1006040               455.0   1653299  \n",
      "\n",
      "[5891 rows x 5 columns]\n"
     ]
    }
   ],
   "source": [
    "df1 = df.groupby(['User_ID']).sum()\n",
    "print(df1)"
   ]
  },
  {
   "cell_type": "code",
   "execution_count": 31,
   "id": "f2866b28",
   "metadata": {},
   "outputs": [
    {
     "data": {
      "image/png": "[encoded data removed]",
      "text/plain": [
       "<Figure size 432x288 with 1 Axes>"
      ]
     },
     "metadata": {
      "needs_background": "light"
     },
     "output_type": "display_data"
    }
   ],
   "source": [
    "Product1Sales = df1['Product_Category_1'].sum()\n",
    "Product2Sales = df1['Product_Category_2'].sum()\n",
    "Product3Sales = df1['Product_Category_3'].sum()\n",
    "productSales = [Product1Sales,Product2Sales,Product3Sales]\n",
    "plt.bar(['product1','product2','Product3'],productSales)\n",
    "plt.show()"
   ]
  },
  {
   "cell_type": "code",
   "execution_count": 5,
   "id": "ffd9bcd6",
   "metadata": {},
   "outputs": [],
   "source": [
    "import matplotlib.pyplot as plt"
   ]
  },
  {
   "cell_type": "code",
   "execution_count": 36,
   "id": "7c34ed17",
   "metadata": {},
   "outputs": [
    {
     "name": "stdout",
     "output_type": "stream",
     "text": [
      "        User_ID Product_ID City_Category Stay_In_Current_City_Years  \\\n",
      "0       1000001  P00069042             A                          2   \n",
      "1       1000001  P00248942             A                          2   \n",
      "2       1000001  P00087842             A                          2   \n",
      "3       1000001  P00085442             A                          2   \n",
      "5       1000003  P00193542             A                          3   \n",
      "...         ...        ...           ...                        ...   \n",
      "550026  1005975  P00370853             A                          1   \n",
      "550040  1005997  P00370853             A                          3   \n",
      "550055  1006019  P00372445             A                         4+   \n",
      "550058  1006024  P00372445             A                          0   \n",
      "550062  1006032  P00372445             A                          3   \n",
      "\n",
      "        Marital_Status  Product_Category_1  Product_Category_2  \\\n",
      "0                    0                   3                 NaN   \n",
      "1                    0                   1                 6.0   \n",
      "2                    0                  12                 NaN   \n",
      "3                    0                  12                14.0   \n",
      "5                    0                   1                 2.0   \n",
      "...                ...                 ...                 ...   \n",
      "550026               0                  19                 NaN   \n",
      "550040               0                  19                 NaN   \n",
      "550055               0                  20                 NaN   \n",
      "550058               1                  20                 NaN   \n",
      "550062               0                  20                 NaN   \n",
      "\n",
      "        Product_Category_3  Purchase  \n",
      "0                      NaN      8370  \n",
      "1                     14.0     15200  \n",
      "2                      NaN      1422  \n",
      "3                      NaN      1057  \n",
      "5                      NaN     15227  \n",
      "...                    ...       ...  \n",
      "550026                 NaN        62  \n",
      "550040                 NaN        26  \n",
      "550055                 NaN       238  \n",
      "550058                 NaN       121  \n",
      "550062                 NaN       473  \n",
      "\n",
      "[147720 rows x 9 columns]\n"
     ]
    },
    {
     "data": {
      "image/png": "[encoded data removed]",
      "text/plain": [
       "<Figure size 432x288 with 1 Axes>"
      ]
     },
     "metadata": {
      "needs_background": "light"
     },
     "output_type": "display_data"
    }
   ],
   "source": [
    "cityA = df[df['City_Category'] == 'A']\n",
    "print(cityA)\n",
    "purchaseA = cityA['Purchase'].sum()\n",
    "Product1Sales_CityA = cityA['Product_Category_1'].sum()\n",
    "Product2Sales_CityA = cityA['Product_Category_2'].sum()\n",
    "Product3Sales_CityA = cityA['Product_Category_3'].sum()\n",
    "ProductSales_cityA = [Product1Sales_CityA,Product2Sales_CityA,Product3Sales_CityA]\n",
    "plt.bar(['Product1Sales_CityA','Product2Sales_CityA','Product3Sales_CityA'],ProductSales_cityA)\n",
    "plt.show()"
   ]
  },
  {
   "cell_type": "code",
   "execution_count": 37,
   "id": "5e0e250e",
   "metadata": {},
   "outputs": [
    {
     "name": "stdout",
     "output_type": "stream",
     "text": [
      "        User_ID Product_ID City_Category Stay_In_Current_City_Years  \\\n",
      "6       1000004  P00184942             B                          2   \n",
      "7       1000004  P00346142             B                          2   \n",
      "8       1000004   P0097242             B                          2   \n",
      "18      1000007  P00036842             B                          1   \n",
      "29      1000010  P00085942             B                         4+   \n",
      "...         ...        ...           ...                        ...   \n",
      "550053  1006017  P00371644             B                          1   \n",
      "550059  1006025  P00370853             B                          1   \n",
      "550063  1006033  P00372445             B                          1   \n",
      "550065  1006036  P00375436             B                         4+   \n",
      "550067  1006039  P00371644             B                         4+   \n",
      "\n",
      "        Marital_Status  Product_Category_1  Product_Category_2  \\\n",
      "6                    1                   1                 8.0   \n",
      "7                    1                   1                15.0   \n",
      "8                    1                   1                16.0   \n",
      "18                   1                   1                14.0   \n",
      "29                   1                   2                 4.0   \n",
      "...                ...                 ...                 ...   \n",
      "550053               0                  20                 NaN   \n",
      "550059               0                  19                 NaN   \n",
      "550063               1                  20                 NaN   \n",
      "550065               1                  20                 NaN   \n",
      "550067               1                  20                 NaN   \n",
      "\n",
      "        Product_Category_3  Purchase  \n",
      "6                     17.0     19215  \n",
      "7                      NaN     15854  \n",
      "8                      NaN     15686  \n",
      "18                    16.0     11788  \n",
      "29                     8.0     16352  \n",
      "...                    ...       ...  \n",
      "550053                 NaN       371  \n",
      "550059                 NaN        48  \n",
      "550063                 NaN       368  \n",
      "550065                 NaN       137  \n",
      "550067                 NaN       490  \n",
      "\n",
      "[231173 rows x 9 columns]\n"
     ]
    },
    {
     "data": {
      "image/png": "[encoded data removed]",
      "text/plain": [
       "<Figure size 432x288 with 1 Axes>"
      ]
     },
     "metadata": {
      "needs_background": "light"
     },
     "output_type": "display_data"
    }
   ],
   "source": [
    "cityB = df[df['City_Category'] == 'B']\n",
    "print(cityB)\n",
    "purchaseB = cityB['Purchase'].sum()\n",
    "Product1Sales_CityB = cityB['Product_Category_1'].sum()\n",
    "Product2Sales_CityB = cityB['Product_Category_2'].sum()\n",
    "Product3Sales_CityB = cityB['Product_Category_3'].sum()\n",
    "ProductSales_cityB = [Product1Sales_CityB,Product2Sales_CityB,Product3Sales_CityB]\n",
    "plt.bar(['Product1Sales_CityB','Product2Sales_CityB','Product3Sales_CityB'],ProductSales_cityB)\n",
    "plt.show()"
   ]
  },
  {
   "cell_type": "code",
   "execution_count": 35,
   "id": "390fde52",
   "metadata": {},
   "outputs": [
    {
     "name": "stdout",
     "output_type": "stream",
     "text": [
      "        User_ID Product_ID City_Category Stay_In_Current_City_Years  \\\n",
      "4       1000002  P00285442             C                         4+   \n",
      "19      1000008  P00249542             C                         4+   \n",
      "20      1000008  P00220442             C                         4+   \n",
      "21      1000008  P00156442             C                         4+   \n",
      "22      1000008  P00213742             C                         4+   \n",
      "...         ...        ...           ...                        ...   \n",
      "550057  1006023  P00370853             C                          2   \n",
      "550060  1006026  P00371644             C                          1   \n",
      "550061  1006029  P00372445             C                          1   \n",
      "550064  1006035  P00375436             C                          3   \n",
      "550066  1006038  P00375436             C                          2   \n",
      "\n",
      "        Marital_Status  Product_Category_1  Product_Category_2  \\\n",
      "4                    0                   8                 NaN   \n",
      "19                   1                   1                 5.0   \n",
      "20                   1                   5                14.0   \n",
      "21                   1                   8                 NaN   \n",
      "22                   1                   8                 NaN   \n",
      "...                ...                 ...                 ...   \n",
      "550057               1                  19                 NaN   \n",
      "550060               1                  20                 NaN   \n",
      "550061               1                  20                 NaN   \n",
      "550064               0                  20                 NaN   \n",
      "550066               0                  20                 NaN   \n",
      "\n",
      "        Product_Category_3  Purchase  \n",
      "4                      NaN      7969  \n",
      "19                    15.0     19614  \n",
      "20                     NaN      8584  \n",
      "21                     NaN      9872  \n",
      "22                     NaN      9743  \n",
      "...                    ...       ...  \n",
      "550057                 NaN        61  \n",
      "550060                 NaN       494  \n",
      "550061                 NaN       599  \n",
      "550064                 NaN       371  \n",
      "550066                 NaN       365  \n",
      "\n",
      "[171175 rows x 9 columns]\n",
      "1663807476\n"
     ]
    }
   ],
   "source": [
    "cityC = df[df['City_Category'] == 'C']\n",
    "print(cityC)\n",
    "purchaseC = cityC['Purchase'].sum()\n",
    "print(purchaseC)\n",
    "Product1Sales_CityC = cityC['Product_Category_1'].sum()\n",
    "Product2Sales_CityC = cityC['Product_Category_2'].sum()\n",
    "Product3Sales_CityC = cityC['Product_Category_3'].sum()\n",
    "ProductSales_cityC = [Product1Sales_CityA,Product2Sales_CityA,Product3Sales_CityA]\n",
    "plt.bar(['Product1Sales_CityA','Product2Sales_CityA','Product3Sales_CityA'],ProductSales_cityA)\n",
    "plt.show()"
   ]
  },
  {
   "cell_type": "code",
   "execution_count": 22,
   "id": "dd8dcc02",
   "metadata": {},
   "outputs": [],
   "source": [
    "purchase = [purchaseA,purchaseB,purchaseC]"
   ]
  },
  {
   "cell_type": "code",
   "execution_count": 28,
   "id": "b78a45ca",
   "metadata": {},
   "outputs": [
    {
     "data": {
      "image/png": "[encoded data removed]",
      "text/plain": [
       "<Figure size 432x288 with 1 Axes>"
      ]
     },
     "metadata": {
      "needs_background": "light"
     },
     "output_type": "display_data"
    }
   ],
   "source": [
    "plt.bar(['A','B','C'],purchase)\n",
    "plt.show()"
   ]
  },
  {
   "cell_type": "code",
   "execution_count": null,
   "id": "87ff14b3",
   "metadata": {},
   "outputs": [],
   "source": []
  }
 ],
 "metadata": {
  "kernelspec": {
   "display_name": "Python 3 (ipykernel)",
   "language": "python",
   "name": "python3"
  },
  "language_info": {
   "codemirror_mode": {
    "name": "ipython",
    "version": 3
   },
   "file_extension": ".py",
   "mimetype": "text/x-python",
   "name": "python",
   "nbconvert_exporter": "python",
   "pygments_lexer": "ipython3",
   "version": "3.9.12"
  }
 },
 "nbformat": 4,
 "nbformat_minor": 5
}
