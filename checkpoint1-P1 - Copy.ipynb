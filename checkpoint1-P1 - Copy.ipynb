{
 "cells": [
  {
   "cell_type": "code",
   "execution_count": 1,
   "id": "7d69ec14",
   "metadata": {},
   "outputs": [],
   "source": [
    "import pandas as pd"
   ]
  },
  {
   "cell_type": "markdown",
   "id": "541a2f09",
   "metadata": {},
   "source": [
    "Read the dataset"
   ]
  },
  {
   "cell_type": "code",
   "execution_count": 2,
   "id": "42e91de4",
   "metadata": {
    "scrolled": true
   },
   "outputs": [
    {
     "name": "stdout",
     "output_type": "stream",
     "text": [
      "        User_ID Product_ID City_Category Stay_In_Current_City_Years  \\\n",
      "0       1000001  P00069042             A                          2   \n",
      "1       1000001  P00248942             A                          2   \n",
      "2       1000001  P00087842             A                          2   \n",
      "3       1000001  P00085442             A                          2   \n",
      "4       1000002  P00285442             C                         4+   \n",
      "...         ...        ...           ...                        ...   \n",
      "550063  1006033  P00372445             B                          1   \n",
      "550064  1006035  P00375436             C                          3   \n",
      "550065  1006036  P00375436             B                         4+   \n",
      "550066  1006038  P00375436             C                          2   \n",
      "550067  1006039  P00371644             B                         4+   \n",
      "\n",
      "        Marital_Status  Product_Category_1  Product_Category_2  \\\n",
      "0                    0                   3                 NaN   \n",
      "1                    0                   1                 6.0   \n",
      "2                    0                  12                 NaN   \n",
      "3                    0                  12                14.0   \n",
      "4                    0                   8                 NaN   \n",
      "...                ...                 ...                 ...   \n",
      "550063               1                  20                 NaN   \n",
      "550064               0                  20                 NaN   \n",
      "550065               1                  20                 NaN   \n",
      "550066               0                  20                 NaN   \n",
      "550067               1                  20                 NaN   \n",
      "\n",
      "        Product_Category_3  Purchase Gender    Age  Occupation City_Code  \\\n",
      "0                      NaN      8370      F   0-17          10      C259   \n",
      "1                     14.0     15200      F   0-17          10      C259   \n",
      "2                      NaN      1422      F   0-17          10      C259   \n",
      "3                      NaN      1057      F   0-17          10      C259   \n",
      "4                      NaN      7969      M    55+          16      C259   \n",
      "...                    ...       ...    ...    ...         ...       ...   \n",
      "550063                 NaN       368      M  51-55          13       C60   \n",
      "550064                 NaN       371      F  26-35           1       C64   \n",
      "550065                 NaN       137      F  26-35          15      C522   \n",
      "550066                 NaN       365      F    55+           1      C235   \n",
      "550067                 NaN       490      F  46-50           0      C390   \n",
      "\n",
      "       State_Code  Zip_Code      City_Name          State  \n",
      "0             S16     42420      Henderson       Kentucky  \n",
      "1             S16     42420      Henderson       Kentucky  \n",
      "2             S16     42420      Henderson       Kentucky  \n",
      "3             S16     42420      Henderson       Kentucky  \n",
      "4             S16     42420      Henderson       Kentucky  \n",
      "...           ...       ...            ...            ...  \n",
      "550063        S04     90712       Lakewood     California  \n",
      "550064        S04     90049    Los Angeles     California  \n",
      "550065        S42     77036        Houston          Texas  \n",
      "550066        S20      1841       Lawrence  Massachusetts  \n",
      "550067        S31     10011  New York City       New York  \n",
      "\n",
      "[550068 rows x 17 columns]\n"
     ]
    }
   ],
   "source": [
    "df = pd.read_csv(r'C:\\Users\\sagarkumar4\\Documents\\Datasets\\User_product_purchase_final.csv')\n",
    "print(df)"
   ]
  },
  {
   "cell_type": "markdown",
   "id": "29a1c7e6",
   "metadata": {},
   "source": [
    "Grouping the data according to the user ID"
   ]
  },
  {
   "cell_type": "code",
   "execution_count": 3,
   "id": "035320db",
   "metadata": {
    "scrolled": true
   },
   "outputs": [
    {
     "name": "stdout",
     "output_type": "stream",
     "text": [
      "         Marital_Status  Product_Category_1  Product_Category_2  \\\n",
      "User_ID                                                           \n",
      "1000001               0                 213               132.0   \n",
      "1000002               0                 354               539.0   \n",
      "1000003               0                  93               117.0   \n",
      "1000004              14                  33               102.0   \n",
      "1000005             106                 659               642.0   \n",
      "...                 ...                 ...                 ...   \n",
      "1006036             514                3200              3403.0   \n",
      "1006037               0                 938               894.0   \n",
      "1006038               0                  83                93.0   \n",
      "1006039              74                 439               580.0   \n",
      "1006040               0                1141              1110.0   \n",
      "\n",
      "         Product_Category_3  Purchase  Occupation  Zip_Code  \n",
      "User_ID                                                      \n",
      "1000001               148.0    334093         350   1484700  \n",
      "1000002               359.0    810472        1232   3266340  \n",
      "1000003               148.0    341635         435   2611044  \n",
      "1000004               127.0    206468          98    466354  \n",
      "1000005               207.0    821001        2120   3530966  \n",
      "...                     ...       ...         ...       ...  \n",
      "1006036              1509.0   4116058        7710  39596504  \n",
      "1006037               456.0   1119538         122   1224270  \n",
      "1006038                51.0     90034          12     22092  \n",
      "1006039               324.0    590319           0    740814  \n",
      "1006040               455.0   1653299        1080   1801980  \n",
      "\n",
      "[5891 rows x 7 columns]\n"
     ]
    }
   ],
   "source": [
    "df1 = df.groupby(['User_ID']).sum()\n",
    "print(df1)"
   ]
  },
  {
   "cell_type": "markdown",
   "id": "b224f535",
   "metadata": {},
   "source": [
    "Find the total sales for Each product category and plot the bar chart"
   ]
  },
  {
   "cell_type": "code",
   "execution_count": 4,
   "id": "fd7ee25a",
   "metadata": {
    "scrolled": true
   },
   "outputs": [
    {
     "data": {
      "image/png": "[encoded data removed]",
      "text/plain": [
       "<Figure size 432x288 with 1 Axes>"
      ]
     },
     "metadata": {
      "needs_background": "light"
     },
     "output_type": "display_data"
    }
   ],
   "source": [
    "import matplotlib.pyplot as plt\n",
    "Product1Sales = df['Product_Category_1'].sum()\n",
    "Product2Sales = df['Product_Category_2'].sum()\n",
    "Product3Sales = df['Product_Category_3'].sum()\n",
    "productSales = [Product1Sales,Product2Sales,Product3Sales]\n",
    "plt.bar(['product1','product2','Product3'],productSales)\n",
    "plt.show()"
   ]
  },
  {
   "cell_type": "markdown",
   "id": "7a594615",
   "metadata": {},
   "source": [
    "Here the product category 2 has the highest no. of sales among all the categories"
   ]
  },
  {
   "cell_type": "markdown",
   "id": "6e96a484",
   "metadata": {},
   "source": [
    "Splitting the data based on cities"
   ]
  },
  {
   "cell_type": "markdown",
   "id": "5cc9d9da",
   "metadata": {},
   "source": [
    "For city A, Sales of Each product is being compared"
   ]
  },
  {
   "cell_type": "code",
   "execution_count": 5,
   "id": "7c34ed17",
   "metadata": {},
   "outputs": [
    {
     "name": "stdout",
     "output_type": "stream",
     "text": [
      "        User_ID Product_ID City_Category Stay_In_Current_City_Years  \\\n",
      "0       1000001  P00069042             A                          2   \n",
      "1       1000001  P00248942             A                          2   \n",
      "2       1000001  P00087842             A                          2   \n",
      "3       1000001  P00085442             A                          2   \n",
      "5       1000003  P00193542             A                          3   \n",
      "...         ...        ...           ...                        ...   \n",
      "550026  1005975  P00370853             A                          1   \n",
      "550040  1005997  P00370853             A                          3   \n",
      "550055  1006019  P00372445             A                         4+   \n",
      "550058  1006024  P00372445             A                          0   \n",
      "550062  1006032  P00372445             A                          3   \n",
      "\n",
      "        Marital_Status  Product_Category_1  Product_Category_2  \\\n",
      "0                    0                   3                 NaN   \n",
      "1                    0                   1                 6.0   \n",
      "2                    0                  12                 NaN   \n",
      "3                    0                  12                14.0   \n",
      "5                    0                   1                 2.0   \n",
      "...                ...                 ...                 ...   \n",
      "550026               0                  19                 NaN   \n",
      "550040               0                  19                 NaN   \n",
      "550055               0                  20                 NaN   \n",
      "550058               1                  20                 NaN   \n",
      "550062               0                  20                 NaN   \n",
      "\n",
      "        Product_Category_3  Purchase Gender    Age  Occupation City_Code  \\\n",
      "0                      NaN      8370      F   0-17          10      C259   \n",
      "1                     14.0     15200      F   0-17          10      C259   \n",
      "2                      NaN      1422      F   0-17          10      C259   \n",
      "3                      NaN      1057      F   0-17          10      C259   \n",
      "5                      NaN     15227      M  26-35          15       C64   \n",
      "...                    ...       ...    ...    ...         ...       ...   \n",
      "550026                 NaN        62      M  26-35          14       C64   \n",
      "550040                 NaN        26      F  26-35           7      C522   \n",
      "550055                 NaN       238      M  26-35           0       C91   \n",
      "550058                 NaN       121      M  26-35          12      C489   \n",
      "550062                 NaN       473      M  46-50           7       C60   \n",
      "\n",
      "       State_Code  Zip_Code      City_Name       State  \n",
      "0             S16     42420      Henderson    Kentucky  \n",
      "1             S16     42420      Henderson    Kentucky  \n",
      "2             S16     42420      Henderson    Kentucky  \n",
      "3             S16     42420      Henderson    Kentucky  \n",
      "5             S04     90036    Los Angeles  California  \n",
      "...           ...       ...            ...         ...  \n",
      "550026        S04     90008    Los Angeles  California  \n",
      "550040        S42     77036        Houston       Texas  \n",
      "550055        S04     94110  San Francisco  California  \n",
      "550058        S41     37918      Knoxville   Tennessee  \n",
      "550062        S04     90712       Lakewood  California  \n",
      "\n",
      "[147720 rows x 17 columns]\n"
     ]
    },
    {
     "data": {
      "image/png": "[encoded data removed]",
      "text/plain": [
       "<Figure size 432x288 with 1 Axes>"
      ]
     },
     "metadata": {
      "needs_background": "light"
     },
     "output_type": "display_data"
    }
   ],
   "source": [
    "cityA = df[df['City_Category'] == 'A']\n",
    "print(cityA)\n",
    "purchaseA = cityA['Purchase'].sum()\n",
    "Product1Sales_CityA = cityA['Product_Category_1'].sum()\n",
    "Product2Sales_CityA = cityA['Product_Category_2'].sum()\n",
    "Product3Sales_CityA = cityA['Product_Category_3'].sum()\n",
    "ProductSales_cityA = [Product1Sales_CityA,Product2Sales_CityA,Product3Sales_CityA]\n",
    "plt.bar(['Product1Sales_CityA','Product2Sales_CityA','Product3Sales_CityA'],ProductSales_cityA)\n",
    "plt.show()\n"
   ]
  },
  {
   "cell_type": "code",
   "execution_count": 17,
   "id": "a242b104",
   "metadata": {},
   "outputs": [
    {
     "data": {
      "text/plain": [
       "<AxesSubplot:ylabel='Purchase'>"
      ]
     },
     "execution_count": 17,
     "metadata": {},
     "output_type": "execute_result"
    },
    {
     "data": {
      "image/png": "[encoded data removed]",
      "text/plain": [
       "<Figure size 432x288 with 1 Axes>"
      ]
     },
     "metadata": {},
     "output_type": "display_data"
    }
   ],
   "source": [
    "cityA.groupby(['Stay_In_Current_City_Years']).sum().plot(kind ='pie',y = 'Purchase')"
   ]
  },
  {
   "cell_type": "markdown",
   "id": "0f6648e2",
   "metadata": {},
   "source": [
    "Here, for city A , The sales of product category 2 is the maximum"
   ]
  },
  {
   "cell_type": "code",
   "execution_count": 18,
   "id": "77aa7782",
   "metadata": {},
   "outputs": [
    {
     "data": {
      "image/png": "[encoded data removed]",
      "text/plain": [
       "<Figure size 432x288 with 1 Axes>"
      ]
     },
     "metadata": {
      "needs_background": "light"
     },
     "output_type": "display_data"
    }
   ],
   "source": [
    "cityB = df[df['City_Category'] == 'B']\n",
    "purchaseB = cityB['Purchase'].sum()\n",
    "Product1Sales_CityB = cityB['Product_Category_1'].sum()\n",
    "Product2Sales_CityB = cityB['Product_Category_2'].sum()\n",
    "Product3Sales_CityB = cityB['Product_Category_3'].sum()\n",
    "ProductSales_cityB = [Product1Sales_CityB,Product2Sales_CityB,Product3Sales_CityB]\n",
    "plt.bar(['Product1Sales_CityB','Product2Sales_CityB','Product3Sales_CityB'],ProductSales_cityB)\n",
    "plt.show()"
   ]
  },
  {
   "cell_type": "markdown",
   "id": "3bb96cfb",
   "metadata": {},
   "source": [
    "Here, for city B also, the product 2 sales are maximum"
   ]
  },
  {
   "cell_type": "code",
   "execution_count": 23,
   "id": "975fddd3",
   "metadata": {},
   "outputs": [
    {
     "data": {
      "text/plain": [
       "<AxesSubplot:ylabel='Purchase'>"
      ]
     },
     "execution_count": 23,
     "metadata": {},
     "output_type": "execute_result"
    },
    {
     "data": {
      "image/png": "[encoded data removed]",
      "text/plain": [
       "<Figure size 432x288 with 1 Axes>"
      ]
     },
     "metadata": {},
     "output_type": "display_data"
    }
   ],
   "source": [
    "cityB.groupby(['Stay_In_Current_City_Years']).sum().plot(kind ='pie',y = 'Purchase')"
   ]
  },
  {
   "cell_type": "code",
   "execution_count": 20,
   "id": "d76e21ea",
   "metadata": {},
   "outputs": [
    {
     "name": "stdout",
     "output_type": "stream",
     "text": [
      "1663807476\n"
     ]
    },
    {
     "data": {
      "image/png": "[encoded data removed]",
      "text/plain": [
       "<Figure size 432x288 with 1 Axes>"
      ]
     },
     "metadata": {
      "needs_background": "light"
     },
     "output_type": "display_data"
    }
   ],
   "source": [
    "cityC = df[df['City_Category'] == 'C']\n",
    "purchaseC = cityC['Purchase'].sum()\n",
    "print(purchaseC)\n",
    "Product1Sales_CityC = cityC['Product_Category_1'].sum()\n",
    "Product2Sales_CityC = cityC['Product_Category_2'].sum()\n",
    "Product3Sales_CityC = cityC['Product_Category_3'].sum()\n",
    "ProductSales_cityC = [Product1Sales_CityC,Product2Sales_CityC,Product3Sales_CityC]\n",
    "plt.bar(['Product1Sales_CityC','Product2Sales_CityC','Product3Sales_CityC'],ProductSales_cityC)\n",
    "plt.show()"
   ]
  },
  {
   "cell_type": "markdown",
   "id": "09438515",
   "metadata": {},
   "source": [
    "For city C , The sales of Product 2 is the maximum"
   ]
  },
  {
   "cell_type": "code",
   "execution_count": 22,
   "id": "9e85ffb9",
   "metadata": {
    "scrolled": true
   },
   "outputs": [
    {
     "data": {
      "text/plain": [
       "<AxesSubplot:ylabel='Purchase'>"
      ]
     },
     "execution_count": 22,
     "metadata": {},
     "output_type": "execute_result"
    },
    {
     "data": {
      "image/png": "[encoded data removed]",
      "text/plain": [
       "<Figure size 432x288 with 1 Axes>"
      ]
     },
     "metadata": {},
     "output_type": "display_data"
    }
   ],
   "source": [
    "cityC.groupby(['Stay_In_Current_City_Years']).sum().plot(kind ='pie',y = 'Purchase')"
   ]
  },
  {
   "cell_type": "code",
   "execution_count": 17,
   "id": "67c134b8",
   "metadata": {},
   "outputs": [],
   "source": [
    "purchase = [purchaseA,purchaseB,purchaseC]"
   ]
  },
  {
   "cell_type": "markdown",
   "id": "c3590cae",
   "metadata": {},
   "source": [
    "Now, the Total purchase is compared for Each city"
   ]
  },
  {
   "cell_type": "code",
   "execution_count": 18,
   "id": "40487074",
   "metadata": {},
   "outputs": [
    {
     "data": {
      "image/png": "[encoded data removed]",
      "text/plain": [
       "<Figure size 432x288 with 1 Axes>"
      ]
     },
     "metadata": {
      "needs_background": "light"
     },
     "output_type": "display_data"
    }
   ],
   "source": [
    "plt.bar(['A','B','C'],purchase)\n",
    "plt.show()"
   ]
  },
  {
   "cell_type": "markdown",
   "id": "0a483ef6",
   "metadata": {},
   "source": [
    "Total Purchase is Highest for City B "
   ]
  },
  {
   "cell_type": "code",
   "execution_count": 31,
   "id": "df183af3",
   "metadata": {},
   "outputs": [
    {
     "ename": "AttributeError",
     "evalue": "'DataFrame' object has no attribute 'sort'",
     "output_type": "error",
     "traceback": [
      "\u001b[1;31m---------------------------------------------------------------------------\u001b[0m",
      "\u001b[1;31mAttributeError\u001b[0m                            Traceback (most recent call last)",
      "Input \u001b[1;32mIn [31]\u001b[0m, in \u001b[0;36m<cell line: 2>\u001b[1;34m()\u001b[0m\n\u001b[0;32m      1\u001b[0m city_data \u001b[38;5;241m=\u001b[39m df\u001b[38;5;241m.\u001b[39mgroupby([\u001b[38;5;124m'\u001b[39m\u001b[38;5;124mCity_Name\u001b[39m\u001b[38;5;124m'\u001b[39m])\u001b[38;5;241m.\u001b[39msum()\n\u001b[1;32m----> 2\u001b[0m \u001b[38;5;28mprint\u001b[39m(\u001b[43mcity_data\u001b[49m\u001b[38;5;241;43m.\u001b[39;49m\u001b[43msort\u001b[49m(Purchase))\n",
      "File \u001b[1;32m~\\Anaconda3\\lib\\site-packages\\pandas\\core\\generic.py:5575\u001b[0m, in \u001b[0;36mNDFrame.__getattr__\u001b[1;34m(self, name)\u001b[0m\n\u001b[0;32m   5568\u001b[0m \u001b[38;5;28;01mif\u001b[39;00m (\n\u001b[0;32m   5569\u001b[0m     name \u001b[38;5;129;01mnot\u001b[39;00m \u001b[38;5;129;01min\u001b[39;00m \u001b[38;5;28mself\u001b[39m\u001b[38;5;241m.\u001b[39m_internal_names_set\n\u001b[0;32m   5570\u001b[0m     \u001b[38;5;129;01mand\u001b[39;00m name \u001b[38;5;129;01mnot\u001b[39;00m \u001b[38;5;129;01min\u001b[39;00m \u001b[38;5;28mself\u001b[39m\u001b[38;5;241m.\u001b[39m_metadata\n\u001b[0;32m   5571\u001b[0m     \u001b[38;5;129;01mand\u001b[39;00m name \u001b[38;5;129;01mnot\u001b[39;00m \u001b[38;5;129;01min\u001b[39;00m \u001b[38;5;28mself\u001b[39m\u001b[38;5;241m.\u001b[39m_accessors\n\u001b[0;32m   5572\u001b[0m     \u001b[38;5;129;01mand\u001b[39;00m \u001b[38;5;28mself\u001b[39m\u001b[38;5;241m.\u001b[39m_info_axis\u001b[38;5;241m.\u001b[39m_can_hold_identifiers_and_holds_name(name)\n\u001b[0;32m   5573\u001b[0m ):\n\u001b[0;32m   5574\u001b[0m     \u001b[38;5;28;01mreturn\u001b[39;00m \u001b[38;5;28mself\u001b[39m[name]\n\u001b[1;32m-> 5575\u001b[0m \u001b[38;5;28;01mreturn\u001b[39;00m \u001b[38;5;28;43mobject\u001b[39;49m\u001b[38;5;241;43m.\u001b[39;49m\u001b[38;5;21;43m__getattribute__\u001b[39;49m\u001b[43m(\u001b[49m\u001b[38;5;28;43mself\u001b[39;49m\u001b[43m,\u001b[49m\u001b[43m \u001b[49m\u001b[43mname\u001b[49m\u001b[43m)\u001b[49m\n",
      "\u001b[1;31mAttributeError\u001b[0m: 'DataFrame' object has no attribute 'sort'"
     ]
    }
   ],
   "source": [
    "city_data = df.groupby(['City_Name']).sum()"
   ]
  },
  {
   "cell_type": "code",
   "execution_count": null,
   "id": "61c58331",
   "metadata": {},
   "outputs": [],
   "source": []
  }
 ],
 "metadata": {
  "kernelspec": {
   "display_name": "Python 3 (ipykernel)",
   "language": "python",
   "name": "python3"
  },
  "language_info": {
   "codemirror_mode": {
    "name": "ipython",
    "version": 3
   },
   "file_extension": ".py",
   "mimetype": "text/x-python",
   "name": "python",
   "nbconvert_exporter": "python",
   "pygments_lexer": "ipython3",
   "version": "3.9.12"
  }
 },
 "nbformat": 4,
 "nbformat_minor": 5
}
