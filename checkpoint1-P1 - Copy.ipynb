{
 "cells": [
  {
   "cell_type": "code",
   "execution_count": 112,
   "id": "7d69ec14",
   "metadata": {},
   "outputs": [],
   "source": [
    "import pandas as pd"
   ]
  },
  {
   "cell_type": "markdown",
   "id": "541a2f09",
   "metadata": {},
   "source": [
    "Read the dataset"
   ]
  },
  {
   "cell_type": "code",
   "execution_count": 113,
   "id": "42e91de4",
   "metadata": {
    "scrolled": true
   },
   "outputs": [
    {
     "data": {
      "text/html": [
       "<div>\n",
       "<style scoped>\n",
       "    .dataframe tbody tr th:only-of-type {\n",
       "        vertical-align: middle;\n",
       "    }\n",
       "\n",
       "    .dataframe tbody tr th {\n",
       "        vertical-align: top;\n",
       "    }\n",
       "\n",
       "    .dataframe thead th {\n",
       "        text-align: right;\n",
       "    }\n",
       "</style>\n",
       "<table border=\"1\" class=\"dataframe\">\n",
       "  <thead>\n",
       "    <tr style=\"text-align: right;\">\n",
       "      <th></th>\n",
       "      <th>User_ID</th>\n",
       "      <th>Product_ID</th>\n",
       "      <th>City_Category</th>\n",
       "      <th>Stay_In_Current_City_Years</th>\n",
       "      <th>Marital_Status</th>\n",
       "      <th>Product_Category_1</th>\n",
       "      <th>Product_Category_2</th>\n",
       "      <th>Product_Category_3</th>\n",
       "      <th>Purchase</th>\n",
       "      <th>Gender</th>\n",
       "      <th>Age</th>\n",
       "      <th>Occupation</th>\n",
       "      <th>City_Code</th>\n",
       "      <th>State_Code</th>\n",
       "      <th>Zip_Code</th>\n",
       "      <th>City_Name</th>\n",
       "      <th>State</th>\n",
       "    </tr>\n",
       "  </thead>\n",
       "  <tbody>\n",
       "    <tr>\n",
       "      <th>0</th>\n",
       "      <td>1000001</td>\n",
       "      <td>P00069042</td>\n",
       "      <td>A</td>\n",
       "      <td>2</td>\n",
       "      <td>0</td>\n",
       "      <td>3</td>\n",
       "      <td>NaN</td>\n",
       "      <td>NaN</td>\n",
       "      <td>8370</td>\n",
       "      <td>F</td>\n",
       "      <td>0-17</td>\n",
       "      <td>10</td>\n",
       "      <td>C259</td>\n",
       "      <td>S16</td>\n",
       "      <td>42420</td>\n",
       "      <td>Henderson</td>\n",
       "      <td>Kentucky</td>\n",
       "    </tr>\n",
       "    <tr>\n",
       "      <th>1</th>\n",
       "      <td>1000001</td>\n",
       "      <td>P00248942</td>\n",
       "      <td>A</td>\n",
       "      <td>2</td>\n",
       "      <td>0</td>\n",
       "      <td>1</td>\n",
       "      <td>6.0</td>\n",
       "      <td>14.0</td>\n",
       "      <td>15200</td>\n",
       "      <td>F</td>\n",
       "      <td>0-17</td>\n",
       "      <td>10</td>\n",
       "      <td>C259</td>\n",
       "      <td>S16</td>\n",
       "      <td>42420</td>\n",
       "      <td>Henderson</td>\n",
       "      <td>Kentucky</td>\n",
       "    </tr>\n",
       "    <tr>\n",
       "      <th>2</th>\n",
       "      <td>1000001</td>\n",
       "      <td>P00087842</td>\n",
       "      <td>A</td>\n",
       "      <td>2</td>\n",
       "      <td>0</td>\n",
       "      <td>12</td>\n",
       "      <td>NaN</td>\n",
       "      <td>NaN</td>\n",
       "      <td>1422</td>\n",
       "      <td>F</td>\n",
       "      <td>0-17</td>\n",
       "      <td>10</td>\n",
       "      <td>C259</td>\n",
       "      <td>S16</td>\n",
       "      <td>42420</td>\n",
       "      <td>Henderson</td>\n",
       "      <td>Kentucky</td>\n",
       "    </tr>\n",
       "    <tr>\n",
       "      <th>3</th>\n",
       "      <td>1000001</td>\n",
       "      <td>P00085442</td>\n",
       "      <td>A</td>\n",
       "      <td>2</td>\n",
       "      <td>0</td>\n",
       "      <td>12</td>\n",
       "      <td>14.0</td>\n",
       "      <td>NaN</td>\n",
       "      <td>1057</td>\n",
       "      <td>F</td>\n",
       "      <td>0-17</td>\n",
       "      <td>10</td>\n",
       "      <td>C259</td>\n",
       "      <td>S16</td>\n",
       "      <td>42420</td>\n",
       "      <td>Henderson</td>\n",
       "      <td>Kentucky</td>\n",
       "    </tr>\n",
       "    <tr>\n",
       "      <th>4</th>\n",
       "      <td>1000002</td>\n",
       "      <td>P00285442</td>\n",
       "      <td>C</td>\n",
       "      <td>4+</td>\n",
       "      <td>0</td>\n",
       "      <td>8</td>\n",
       "      <td>NaN</td>\n",
       "      <td>NaN</td>\n",
       "      <td>7969</td>\n",
       "      <td>M</td>\n",
       "      <td>55+</td>\n",
       "      <td>16</td>\n",
       "      <td>C259</td>\n",
       "      <td>S16</td>\n",
       "      <td>42420</td>\n",
       "      <td>Henderson</td>\n",
       "      <td>Kentucky</td>\n",
       "    </tr>\n",
       "    <tr>\n",
       "      <th>...</th>\n",
       "      <td>...</td>\n",
       "      <td>...</td>\n",
       "      <td>...</td>\n",
       "      <td>...</td>\n",
       "      <td>...</td>\n",
       "      <td>...</td>\n",
       "      <td>...</td>\n",
       "      <td>...</td>\n",
       "      <td>...</td>\n",
       "      <td>...</td>\n",
       "      <td>...</td>\n",
       "      <td>...</td>\n",
       "      <td>...</td>\n",
       "      <td>...</td>\n",
       "      <td>...</td>\n",
       "      <td>...</td>\n",
       "      <td>...</td>\n",
       "    </tr>\n",
       "    <tr>\n",
       "      <th>550063</th>\n",
       "      <td>1006033</td>\n",
       "      <td>P00372445</td>\n",
       "      <td>B</td>\n",
       "      <td>1</td>\n",
       "      <td>1</td>\n",
       "      <td>20</td>\n",
       "      <td>NaN</td>\n",
       "      <td>NaN</td>\n",
       "      <td>368</td>\n",
       "      <td>M</td>\n",
       "      <td>51-55</td>\n",
       "      <td>13</td>\n",
       "      <td>C60</td>\n",
       "      <td>S04</td>\n",
       "      <td>90712</td>\n",
       "      <td>Lakewood</td>\n",
       "      <td>California</td>\n",
       "    </tr>\n",
       "    <tr>\n",
       "      <th>550064</th>\n",
       "      <td>1006035</td>\n",
       "      <td>P00375436</td>\n",
       "      <td>C</td>\n",
       "      <td>3</td>\n",
       "      <td>0</td>\n",
       "      <td>20</td>\n",
       "      <td>NaN</td>\n",
       "      <td>NaN</td>\n",
       "      <td>371</td>\n",
       "      <td>F</td>\n",
       "      <td>26-35</td>\n",
       "      <td>1</td>\n",
       "      <td>C64</td>\n",
       "      <td>S04</td>\n",
       "      <td>90049</td>\n",
       "      <td>Los Angeles</td>\n",
       "      <td>California</td>\n",
       "    </tr>\n",
       "    <tr>\n",
       "      <th>550065</th>\n",
       "      <td>1006036</td>\n",
       "      <td>P00375436</td>\n",
       "      <td>B</td>\n",
       "      <td>4+</td>\n",
       "      <td>1</td>\n",
       "      <td>20</td>\n",
       "      <td>NaN</td>\n",
       "      <td>NaN</td>\n",
       "      <td>137</td>\n",
       "      <td>F</td>\n",
       "      <td>26-35</td>\n",
       "      <td>15</td>\n",
       "      <td>C522</td>\n",
       "      <td>S42</td>\n",
       "      <td>77036</td>\n",
       "      <td>Houston</td>\n",
       "      <td>Texas</td>\n",
       "    </tr>\n",
       "    <tr>\n",
       "      <th>550066</th>\n",
       "      <td>1006038</td>\n",
       "      <td>P00375436</td>\n",
       "      <td>C</td>\n",
       "      <td>2</td>\n",
       "      <td>0</td>\n",
       "      <td>20</td>\n",
       "      <td>NaN</td>\n",
       "      <td>NaN</td>\n",
       "      <td>365</td>\n",
       "      <td>F</td>\n",
       "      <td>55+</td>\n",
       "      <td>1</td>\n",
       "      <td>C235</td>\n",
       "      <td>S20</td>\n",
       "      <td>1841</td>\n",
       "      <td>Lawrence</td>\n",
       "      <td>Massachusetts</td>\n",
       "    </tr>\n",
       "    <tr>\n",
       "      <th>550067</th>\n",
       "      <td>1006039</td>\n",
       "      <td>P00371644</td>\n",
       "      <td>B</td>\n",
       "      <td>4+</td>\n",
       "      <td>1</td>\n",
       "      <td>20</td>\n",
       "      <td>NaN</td>\n",
       "      <td>NaN</td>\n",
       "      <td>490</td>\n",
       "      <td>F</td>\n",
       "      <td>46-50</td>\n",
       "      <td>0</td>\n",
       "      <td>C390</td>\n",
       "      <td>S31</td>\n",
       "      <td>10011</td>\n",
       "      <td>New York City</td>\n",
       "      <td>New York</td>\n",
       "    </tr>\n",
       "  </tbody>\n",
       "</table>\n",
       "<p>550068 rows × 17 columns</p>\n",
       "</div>"
      ],
      "text/plain": [
       "        User_ID Product_ID City_Category Stay_In_Current_City_Years  \\\n",
       "0       1000001  P00069042             A                          2   \n",
       "1       1000001  P00248942             A                          2   \n",
       "2       1000001  P00087842             A                          2   \n",
       "3       1000001  P00085442             A                          2   \n",
       "4       1000002  P00285442             C                         4+   \n",
       "...         ...        ...           ...                        ...   \n",
       "550063  1006033  P00372445             B                          1   \n",
       "550064  1006035  P00375436             C                          3   \n",
       "550065  1006036  P00375436             B                         4+   \n",
       "550066  1006038  P00375436             C                          2   \n",
       "550067  1006039  P00371644             B                         4+   \n",
       "\n",
       "        Marital_Status  Product_Category_1  Product_Category_2  \\\n",
       "0                    0                   3                 NaN   \n",
       "1                    0                   1                 6.0   \n",
       "2                    0                  12                 NaN   \n",
       "3                    0                  12                14.0   \n",
       "4                    0                   8                 NaN   \n",
       "...                ...                 ...                 ...   \n",
       "550063               1                  20                 NaN   \n",
       "550064               0                  20                 NaN   \n",
       "550065               1                  20                 NaN   \n",
       "550066               0                  20                 NaN   \n",
       "550067               1                  20                 NaN   \n",
       "\n",
       "        Product_Category_3  Purchase Gender    Age  Occupation City_Code  \\\n",
       "0                      NaN      8370      F   0-17          10      C259   \n",
       "1                     14.0     15200      F   0-17          10      C259   \n",
       "2                      NaN      1422      F   0-17          10      C259   \n",
       "3                      NaN      1057      F   0-17          10      C259   \n",
       "4                      NaN      7969      M    55+          16      C259   \n",
       "...                    ...       ...    ...    ...         ...       ...   \n",
       "550063                 NaN       368      M  51-55          13       C60   \n",
       "550064                 NaN       371      F  26-35           1       C64   \n",
       "550065                 NaN       137      F  26-35          15      C522   \n",
       "550066                 NaN       365      F    55+           1      C235   \n",
       "550067                 NaN       490      F  46-50           0      C390   \n",
       "\n",
       "       State_Code  Zip_Code      City_Name          State  \n",
       "0             S16     42420      Henderson       Kentucky  \n",
       "1             S16     42420      Henderson       Kentucky  \n",
       "2             S16     42420      Henderson       Kentucky  \n",
       "3             S16     42420      Henderson       Kentucky  \n",
       "4             S16     42420      Henderson       Kentucky  \n",
       "...           ...       ...            ...            ...  \n",
       "550063        S04     90712       Lakewood     California  \n",
       "550064        S04     90049    Los Angeles     California  \n",
       "550065        S42     77036        Houston          Texas  \n",
       "550066        S20      1841       Lawrence  Massachusetts  \n",
       "550067        S31     10011  New York City       New York  \n",
       "\n",
       "[550068 rows x 17 columns]"
      ]
     },
     "execution_count": 113,
     "metadata": {},
     "output_type": "execute_result"
    }
   ],
   "source": [
    "df = pd.read_csv(r'C:\\Users\\sagarkumar4\\Documents\\Datasets\\User_product_purchase_final.csv')\n",
    "df"
   ]
  },
  {
   "cell_type": "markdown",
   "id": "29a1c7e6",
   "metadata": {},
   "source": [
    "Grouping the data according to the user ID"
   ]
  },
  {
   "cell_type": "code",
   "execution_count": 114,
   "id": "035320db",
   "metadata": {
    "scrolled": true
   },
   "outputs": [
    {
     "data": {
      "text/html": [
       "<div>\n",
       "<style scoped>\n",
       "    .dataframe tbody tr th:only-of-type {\n",
       "        vertical-align: middle;\n",
       "    }\n",
       "\n",
       "    .dataframe tbody tr th {\n",
       "        vertical-align: top;\n",
       "    }\n",
       "\n",
       "    .dataframe thead th {\n",
       "        text-align: right;\n",
       "    }\n",
       "</style>\n",
       "<table border=\"1\" class=\"dataframe\">\n",
       "  <thead>\n",
       "    <tr style=\"text-align: right;\">\n",
       "      <th></th>\n",
       "      <th>Marital_Status</th>\n",
       "      <th>Product_Category_1</th>\n",
       "      <th>Product_Category_2</th>\n",
       "      <th>Product_Category_3</th>\n",
       "      <th>Purchase</th>\n",
       "      <th>Occupation</th>\n",
       "      <th>Zip_Code</th>\n",
       "    </tr>\n",
       "    <tr>\n",
       "      <th>User_ID</th>\n",
       "      <th></th>\n",
       "      <th></th>\n",
       "      <th></th>\n",
       "      <th></th>\n",
       "      <th></th>\n",
       "      <th></th>\n",
       "      <th></th>\n",
       "    </tr>\n",
       "  </thead>\n",
       "  <tbody>\n",
       "    <tr>\n",
       "      <th>1000001</th>\n",
       "      <td>0</td>\n",
       "      <td>213</td>\n",
       "      <td>132.0</td>\n",
       "      <td>148.0</td>\n",
       "      <td>334093</td>\n",
       "      <td>350</td>\n",
       "      <td>1484700</td>\n",
       "    </tr>\n",
       "    <tr>\n",
       "      <th>1000002</th>\n",
       "      <td>0</td>\n",
       "      <td>354</td>\n",
       "      <td>539.0</td>\n",
       "      <td>359.0</td>\n",
       "      <td>810472</td>\n",
       "      <td>1232</td>\n",
       "      <td>3266340</td>\n",
       "    </tr>\n",
       "    <tr>\n",
       "      <th>1000003</th>\n",
       "      <td>0</td>\n",
       "      <td>93</td>\n",
       "      <td>117.0</td>\n",
       "      <td>148.0</td>\n",
       "      <td>341635</td>\n",
       "      <td>435</td>\n",
       "      <td>2611044</td>\n",
       "    </tr>\n",
       "    <tr>\n",
       "      <th>1000004</th>\n",
       "      <td>14</td>\n",
       "      <td>33</td>\n",
       "      <td>102.0</td>\n",
       "      <td>127.0</td>\n",
       "      <td>206468</td>\n",
       "      <td>98</td>\n",
       "      <td>466354</td>\n",
       "    </tr>\n",
       "    <tr>\n",
       "      <th>1000005</th>\n",
       "      <td>106</td>\n",
       "      <td>659</td>\n",
       "      <td>642.0</td>\n",
       "      <td>207.0</td>\n",
       "      <td>821001</td>\n",
       "      <td>2120</td>\n",
       "      <td>3530966</td>\n",
       "    </tr>\n",
       "    <tr>\n",
       "      <th>...</th>\n",
       "      <td>...</td>\n",
       "      <td>...</td>\n",
       "      <td>...</td>\n",
       "      <td>...</td>\n",
       "      <td>...</td>\n",
       "      <td>...</td>\n",
       "      <td>...</td>\n",
       "    </tr>\n",
       "    <tr>\n",
       "      <th>1006036</th>\n",
       "      <td>514</td>\n",
       "      <td>3200</td>\n",
       "      <td>3403.0</td>\n",
       "      <td>1509.0</td>\n",
       "      <td>4116058</td>\n",
       "      <td>7710</td>\n",
       "      <td>39596504</td>\n",
       "    </tr>\n",
       "    <tr>\n",
       "      <th>1006037</th>\n",
       "      <td>0</td>\n",
       "      <td>938</td>\n",
       "      <td>894.0</td>\n",
       "      <td>456.0</td>\n",
       "      <td>1119538</td>\n",
       "      <td>122</td>\n",
       "      <td>1224270</td>\n",
       "    </tr>\n",
       "    <tr>\n",
       "      <th>1006038</th>\n",
       "      <td>0</td>\n",
       "      <td>83</td>\n",
       "      <td>93.0</td>\n",
       "      <td>51.0</td>\n",
       "      <td>90034</td>\n",
       "      <td>12</td>\n",
       "      <td>22092</td>\n",
       "    </tr>\n",
       "    <tr>\n",
       "      <th>1006039</th>\n",
       "      <td>74</td>\n",
       "      <td>439</td>\n",
       "      <td>580.0</td>\n",
       "      <td>324.0</td>\n",
       "      <td>590319</td>\n",
       "      <td>0</td>\n",
       "      <td>740814</td>\n",
       "    </tr>\n",
       "    <tr>\n",
       "      <th>1006040</th>\n",
       "      <td>0</td>\n",
       "      <td>1141</td>\n",
       "      <td>1110.0</td>\n",
       "      <td>455.0</td>\n",
       "      <td>1653299</td>\n",
       "      <td>1080</td>\n",
       "      <td>1801980</td>\n",
       "    </tr>\n",
       "  </tbody>\n",
       "</table>\n",
       "<p>5891 rows × 7 columns</p>\n",
       "</div>"
      ],
      "text/plain": [
       "         Marital_Status  Product_Category_1  Product_Category_2  \\\n",
       "User_ID                                                           \n",
       "1000001               0                 213               132.0   \n",
       "1000002               0                 354               539.0   \n",
       "1000003               0                  93               117.0   \n",
       "1000004              14                  33               102.0   \n",
       "1000005             106                 659               642.0   \n",
       "...                 ...                 ...                 ...   \n",
       "1006036             514                3200              3403.0   \n",
       "1006037               0                 938               894.0   \n",
       "1006038               0                  83                93.0   \n",
       "1006039              74                 439               580.0   \n",
       "1006040               0                1141              1110.0   \n",
       "\n",
       "         Product_Category_3  Purchase  Occupation  Zip_Code  \n",
       "User_ID                                                      \n",
       "1000001               148.0    334093         350   1484700  \n",
       "1000002               359.0    810472        1232   3266340  \n",
       "1000003               148.0    341635         435   2611044  \n",
       "1000004               127.0    206468          98    466354  \n",
       "1000005               207.0    821001        2120   3530966  \n",
       "...                     ...       ...         ...       ...  \n",
       "1006036              1509.0   4116058        7710  39596504  \n",
       "1006037               456.0   1119538         122   1224270  \n",
       "1006038                51.0     90034          12     22092  \n",
       "1006039               324.0    590319           0    740814  \n",
       "1006040               455.0   1653299        1080   1801980  \n",
       "\n",
       "[5891 rows x 7 columns]"
      ]
     },
     "execution_count": 114,
     "metadata": {},
     "output_type": "execute_result"
    }
   ],
   "source": [
    "df1 = df.groupby(['User_ID']).sum()\n",
    "df1"
   ]
  },
  {
   "cell_type": "markdown",
   "id": "b224f535",
   "metadata": {},
   "source": [
    "Find the total sales for Each product category and plot the bar chart"
   ]
  },
  {
   "cell_type": "code",
   "execution_count": 115,
   "id": "fd7ee25a",
   "metadata": {
    "scrolled": true
   },
   "outputs": [
    {
     "data": {
      "image/png": "[encoded data removed]",
      "text/plain": [
       "<Figure size 432x288 with 1 Axes>"
      ]
     },
     "metadata": {},
     "output_type": "display_data"
    }
   ],
   "source": [
    "import matplotlib.pyplot as plt\n",
    "Product1Sales = df['Product_Category_1'].sum()\n",
    "Product2Sales = df['Product_Category_2'].sum()\n",
    "Product3Sales = df['Product_Category_3'].sum()\n",
    "productSales = [Product1Sales,Product2Sales,Product3Sales]\n",
    "plt.bar(['product1','product2','Product3'],productSales)\n",
    "plt.show()"
   ]
  },
  {
   "cell_type": "markdown",
   "id": "7a594615",
   "metadata": {},
   "source": [
    "Here the product category 2 has the highest no. of sales among all the categories"
   ]
  },
  {
   "cell_type": "markdown",
   "id": "6e96a484",
   "metadata": {},
   "source": [
    "Splitting the data based on cities"
   ]
  },
  {
   "cell_type": "markdown",
   "id": "5cc9d9da",
   "metadata": {},
   "source": [
    "For city A, Sales of Each product is being compared"
   ]
  },
  {
   "cell_type": "code",
   "execution_count": 116,
   "id": "7c34ed17",
   "metadata": {},
   "outputs": [
    {
     "data": {
      "image/png": "[encoded data removed]",
      "text/plain": [
       "<Figure size 432x288 with 1 Axes>"
      ]
     },
     "metadata": {},
     "output_type": "display_data"
    },
    {
     "data": {
      "text/html": [
       "<div>\n",
       "<style scoped>\n",
       "    .dataframe tbody tr th:only-of-type {\n",
       "        vertical-align: middle;\n",
       "    }\n",
       "\n",
       "    .dataframe tbody tr th {\n",
       "        vertical-align: top;\n",
       "    }\n",
       "\n",
       "    .dataframe thead th {\n",
       "        text-align: right;\n",
       "    }\n",
       "</style>\n",
       "<table border=\"1\" class=\"dataframe\">\n",
       "  <thead>\n",
       "    <tr style=\"text-align: right;\">\n",
       "      <th></th>\n",
       "      <th>User_ID</th>\n",
       "      <th>Product_ID</th>\n",
       "      <th>City_Category</th>\n",
       "      <th>Stay_In_Current_City_Years</th>\n",
       "      <th>Marital_Status</th>\n",
       "      <th>Product_Category_1</th>\n",
       "      <th>Product_Category_2</th>\n",
       "      <th>Product_Category_3</th>\n",
       "      <th>Purchase</th>\n",
       "      <th>Gender</th>\n",
       "      <th>Age</th>\n",
       "      <th>Occupation</th>\n",
       "      <th>City_Code</th>\n",
       "      <th>State_Code</th>\n",
       "      <th>Zip_Code</th>\n",
       "      <th>City_Name</th>\n",
       "      <th>State</th>\n",
       "    </tr>\n",
       "  </thead>\n",
       "  <tbody>\n",
       "    <tr>\n",
       "      <th>0</th>\n",
       "      <td>1000001</td>\n",
       "      <td>P00069042</td>\n",
       "      <td>A</td>\n",
       "      <td>2</td>\n",
       "      <td>0</td>\n",
       "      <td>3</td>\n",
       "      <td>NaN</td>\n",
       "      <td>NaN</td>\n",
       "      <td>8370</td>\n",
       "      <td>F</td>\n",
       "      <td>0-17</td>\n",
       "      <td>10</td>\n",
       "      <td>C259</td>\n",
       "      <td>S16</td>\n",
       "      <td>42420</td>\n",
       "      <td>Henderson</td>\n",
       "      <td>Kentucky</td>\n",
       "    </tr>\n",
       "    <tr>\n",
       "      <th>1</th>\n",
       "      <td>1000001</td>\n",
       "      <td>P00248942</td>\n",
       "      <td>A</td>\n",
       "      <td>2</td>\n",
       "      <td>0</td>\n",
       "      <td>1</td>\n",
       "      <td>6.0</td>\n",
       "      <td>14.0</td>\n",
       "      <td>15200</td>\n",
       "      <td>F</td>\n",
       "      <td>0-17</td>\n",
       "      <td>10</td>\n",
       "      <td>C259</td>\n",
       "      <td>S16</td>\n",
       "      <td>42420</td>\n",
       "      <td>Henderson</td>\n",
       "      <td>Kentucky</td>\n",
       "    </tr>\n",
       "    <tr>\n",
       "      <th>2</th>\n",
       "      <td>1000001</td>\n",
       "      <td>P00087842</td>\n",
       "      <td>A</td>\n",
       "      <td>2</td>\n",
       "      <td>0</td>\n",
       "      <td>12</td>\n",
       "      <td>NaN</td>\n",
       "      <td>NaN</td>\n",
       "      <td>1422</td>\n",
       "      <td>F</td>\n",
       "      <td>0-17</td>\n",
       "      <td>10</td>\n",
       "      <td>C259</td>\n",
       "      <td>S16</td>\n",
       "      <td>42420</td>\n",
       "      <td>Henderson</td>\n",
       "      <td>Kentucky</td>\n",
       "    </tr>\n",
       "    <tr>\n",
       "      <th>3</th>\n",
       "      <td>1000001</td>\n",
       "      <td>P00085442</td>\n",
       "      <td>A</td>\n",
       "      <td>2</td>\n",
       "      <td>0</td>\n",
       "      <td>12</td>\n",
       "      <td>14.0</td>\n",
       "      <td>NaN</td>\n",
       "      <td>1057</td>\n",
       "      <td>F</td>\n",
       "      <td>0-17</td>\n",
       "      <td>10</td>\n",
       "      <td>C259</td>\n",
       "      <td>S16</td>\n",
       "      <td>42420</td>\n",
       "      <td>Henderson</td>\n",
       "      <td>Kentucky</td>\n",
       "    </tr>\n",
       "    <tr>\n",
       "      <th>5</th>\n",
       "      <td>1000003</td>\n",
       "      <td>P00193542</td>\n",
       "      <td>A</td>\n",
       "      <td>3</td>\n",
       "      <td>0</td>\n",
       "      <td>1</td>\n",
       "      <td>2.0</td>\n",
       "      <td>NaN</td>\n",
       "      <td>15227</td>\n",
       "      <td>M</td>\n",
       "      <td>26-35</td>\n",
       "      <td>15</td>\n",
       "      <td>C64</td>\n",
       "      <td>S04</td>\n",
       "      <td>90036</td>\n",
       "      <td>Los Angeles</td>\n",
       "      <td>California</td>\n",
       "    </tr>\n",
       "    <tr>\n",
       "      <th>...</th>\n",
       "      <td>...</td>\n",
       "      <td>...</td>\n",
       "      <td>...</td>\n",
       "      <td>...</td>\n",
       "      <td>...</td>\n",
       "      <td>...</td>\n",
       "      <td>...</td>\n",
       "      <td>...</td>\n",
       "      <td>...</td>\n",
       "      <td>...</td>\n",
       "      <td>...</td>\n",
       "      <td>...</td>\n",
       "      <td>...</td>\n",
       "      <td>...</td>\n",
       "      <td>...</td>\n",
       "      <td>...</td>\n",
       "      <td>...</td>\n",
       "    </tr>\n",
       "    <tr>\n",
       "      <th>550026</th>\n",
       "      <td>1005975</td>\n",
       "      <td>P00370853</td>\n",
       "      <td>A</td>\n",
       "      <td>1</td>\n",
       "      <td>0</td>\n",
       "      <td>19</td>\n",
       "      <td>NaN</td>\n",
       "      <td>NaN</td>\n",
       "      <td>62</td>\n",
       "      <td>M</td>\n",
       "      <td>26-35</td>\n",
       "      <td>14</td>\n",
       "      <td>C64</td>\n",
       "      <td>S04</td>\n",
       "      <td>90008</td>\n",
       "      <td>Los Angeles</td>\n",
       "      <td>California</td>\n",
       "    </tr>\n",
       "    <tr>\n",
       "      <th>550040</th>\n",
       "      <td>1005997</td>\n",
       "      <td>P00370853</td>\n",
       "      <td>A</td>\n",
       "      <td>3</td>\n",
       "      <td>0</td>\n",
       "      <td>19</td>\n",
       "      <td>NaN</td>\n",
       "      <td>NaN</td>\n",
       "      <td>26</td>\n",
       "      <td>F</td>\n",
       "      <td>26-35</td>\n",
       "      <td>7</td>\n",
       "      <td>C522</td>\n",
       "      <td>S42</td>\n",
       "      <td>77036</td>\n",
       "      <td>Houston</td>\n",
       "      <td>Texas</td>\n",
       "    </tr>\n",
       "    <tr>\n",
       "      <th>550055</th>\n",
       "      <td>1006019</td>\n",
       "      <td>P00372445</td>\n",
       "      <td>A</td>\n",
       "      <td>4+</td>\n",
       "      <td>0</td>\n",
       "      <td>20</td>\n",
       "      <td>NaN</td>\n",
       "      <td>NaN</td>\n",
       "      <td>238</td>\n",
       "      <td>M</td>\n",
       "      <td>26-35</td>\n",
       "      <td>0</td>\n",
       "      <td>C91</td>\n",
       "      <td>S04</td>\n",
       "      <td>94110</td>\n",
       "      <td>San Francisco</td>\n",
       "      <td>California</td>\n",
       "    </tr>\n",
       "    <tr>\n",
       "      <th>550058</th>\n",
       "      <td>1006024</td>\n",
       "      <td>P00372445</td>\n",
       "      <td>A</td>\n",
       "      <td>0</td>\n",
       "      <td>1</td>\n",
       "      <td>20</td>\n",
       "      <td>NaN</td>\n",
       "      <td>NaN</td>\n",
       "      <td>121</td>\n",
       "      <td>M</td>\n",
       "      <td>26-35</td>\n",
       "      <td>12</td>\n",
       "      <td>C489</td>\n",
       "      <td>S41</td>\n",
       "      <td>37918</td>\n",
       "      <td>Knoxville</td>\n",
       "      <td>Tennessee</td>\n",
       "    </tr>\n",
       "    <tr>\n",
       "      <th>550062</th>\n",
       "      <td>1006032</td>\n",
       "      <td>P00372445</td>\n",
       "      <td>A</td>\n",
       "      <td>3</td>\n",
       "      <td>0</td>\n",
       "      <td>20</td>\n",
       "      <td>NaN</td>\n",
       "      <td>NaN</td>\n",
       "      <td>473</td>\n",
       "      <td>M</td>\n",
       "      <td>46-50</td>\n",
       "      <td>7</td>\n",
       "      <td>C60</td>\n",
       "      <td>S04</td>\n",
       "      <td>90712</td>\n",
       "      <td>Lakewood</td>\n",
       "      <td>California</td>\n",
       "    </tr>\n",
       "  </tbody>\n",
       "</table>\n",
       "<p>147720 rows × 17 columns</p>\n",
       "</div>"
      ],
      "text/plain": [
       "        User_ID Product_ID City_Category Stay_In_Current_City_Years  \\\n",
       "0       1000001  P00069042             A                          2   \n",
       "1       1000001  P00248942             A                          2   \n",
       "2       1000001  P00087842             A                          2   \n",
       "3       1000001  P00085442             A                          2   \n",
       "5       1000003  P00193542             A                          3   \n",
       "...         ...        ...           ...                        ...   \n",
       "550026  1005975  P00370853             A                          1   \n",
       "550040  1005997  P00370853             A                          3   \n",
       "550055  1006019  P00372445             A                         4+   \n",
       "550058  1006024  P00372445             A                          0   \n",
       "550062  1006032  P00372445             A                          3   \n",
       "\n",
       "        Marital_Status  Product_Category_1  Product_Category_2  \\\n",
       "0                    0                   3                 NaN   \n",
       "1                    0                   1                 6.0   \n",
       "2                    0                  12                 NaN   \n",
       "3                    0                  12                14.0   \n",
       "5                    0                   1                 2.0   \n",
       "...                ...                 ...                 ...   \n",
       "550026               0                  19                 NaN   \n",
       "550040               0                  19                 NaN   \n",
       "550055               0                  20                 NaN   \n",
       "550058               1                  20                 NaN   \n",
       "550062               0                  20                 NaN   \n",
       "\n",
       "        Product_Category_3  Purchase Gender    Age  Occupation City_Code  \\\n",
       "0                      NaN      8370      F   0-17          10      C259   \n",
       "1                     14.0     15200      F   0-17          10      C259   \n",
       "2                      NaN      1422      F   0-17          10      C259   \n",
       "3                      NaN      1057      F   0-17          10      C259   \n",
       "5                      NaN     15227      M  26-35          15       C64   \n",
       "...                    ...       ...    ...    ...         ...       ...   \n",
       "550026                 NaN        62      M  26-35          14       C64   \n",
       "550040                 NaN        26      F  26-35           7      C522   \n",
       "550055                 NaN       238      M  26-35           0       C91   \n",
       "550058                 NaN       121      M  26-35          12      C489   \n",
       "550062                 NaN       473      M  46-50           7       C60   \n",
       "\n",
       "       State_Code  Zip_Code      City_Name       State  \n",
       "0             S16     42420      Henderson    Kentucky  \n",
       "1             S16     42420      Henderson    Kentucky  \n",
       "2             S16     42420      Henderson    Kentucky  \n",
       "3             S16     42420      Henderson    Kentucky  \n",
       "5             S04     90036    Los Angeles  California  \n",
       "...           ...       ...            ...         ...  \n",
       "550026        S04     90008    Los Angeles  California  \n",
       "550040        S42     77036        Houston       Texas  \n",
       "550055        S04     94110  San Francisco  California  \n",
       "550058        S41     37918      Knoxville   Tennessee  \n",
       "550062        S04     90712       Lakewood  California  \n",
       "\n",
       "[147720 rows x 17 columns]"
      ]
     },
     "execution_count": 116,
     "metadata": {},
     "output_type": "execute_result"
    }
   ],
   "source": [
    "cityA = df[df['City_Category'] == 'A']\n",
    "\n",
    "purchaseA = cityA['Purchase'].sum()\n",
    "Product1Sales_CityA = cityA['Product_Category_1'].sum()\n",
    "Product2Sales_CityA = cityA['Product_Category_2'].sum()\n",
    "Product3Sales_CityA = cityA['Product_Category_3'].sum()\n",
    "ProductSales_cityA = [Product1Sales_CityA,Product2Sales_CityA,Product3Sales_CityA]\n",
    "plt.bar(['Product1Sales_CityA','Product2Sales_CityA','Product3Sales_CityA'],ProductSales_cityA)\n",
    "plt.show()\n",
    "cityA"
   ]
  },
  {
   "cell_type": "markdown",
   "id": "4265b6ea",
   "metadata": {},
   "source": [
    "The above Plot shows The Purchase Variation of different product Categories for City A"
   ]
  },
  {
   "cell_type": "markdown",
   "id": "a8a70899",
   "metadata": {},
   "source": [
    "Product 2 Has the highest Purchase Value and Product 3 Has the least Purchase Value"
   ]
  },
  {
   "cell_type": "markdown",
   "id": "cc43d7cb",
   "metadata": {},
   "source": [
    "Some discount can be provided on product 3 to increase the sale"
   ]
  },
  {
   "cell_type": "code",
   "execution_count": 140,
   "id": "ae2b0210",
   "metadata": {
    "scrolled": true
   },
   "outputs": [
    {
     "data": {
      "text/plain": [
       "<AxesSubplot:ylabel='Purchase'>"
      ]
     },
     "execution_count": 140,
     "metadata": {},
     "output_type": "execute_result"
    },
    {
     "data": {
      "image/png": "[encoded data removed]",
      "text/plain": [
       "<Figure size 432x288 with 1 Axes>"
      ]
     },
     "metadata": {},
     "output_type": "display_data"
    }
   ],
   "source": [
    "dfs=cityA[['Stay_In_Current_City_Years','Purchase']]\n",
    "dfs.groupby('Stay_In_Current_City_Years')['Purchase'].sum().sort_values(ascending=False).head(10).plot(kind='pie')"
   ]
  },
  {
   "cell_type": "markdown",
   "id": "ac1217d2",
   "metadata": {},
   "source": [
    "People who have Lived 1 year in city A Has the maximum Purchase Value and Those lived 4+ years has the least Purchase Value"
   ]
  },
  {
   "cell_type": "markdown",
   "id": "1d31aad8",
   "metadata": {},
   "source": [
    "Now the same analysis is being done for City B"
   ]
  },
  {
   "cell_type": "code",
   "execution_count": 118,
   "id": "77aa7782",
   "metadata": {},
   "outputs": [
    {
     "data": {
      "image/png": "[encoded data removed]",
      "text/plain": [
       "<Figure size 432x288 with 1 Axes>"
      ]
     },
     "metadata": {},
     "output_type": "display_data"
    }
   ],
   "source": [
    "cityB = df[df['City_Category'] == 'B']\n",
    "purchaseB = cityB['Purchase'].sum()\n",
    "Product1Sales_CityB = cityB['Product_Category_1'].sum()\n",
    "Product2Sales_CityB = cityB['Product_Category_2'].sum()\n",
    "Product3Sales_CityB = cityB['Product_Category_3'].sum()\n",
    "ProductSales_cityB = [Product1Sales_CityB,Product2Sales_CityB,Product3Sales_CityB]\n",
    "plt.bar(['Product1Sales_CityB','Product2Sales_CityB','Product3Sales_CityB'],ProductSales_cityB)\n",
    "plt.show()"
   ]
  },
  {
   "cell_type": "markdown",
   "id": "3bb96cfb",
   "metadata": {},
   "source": [
    "Here, for city B also, the product 2 sales are maximum"
   ]
  },
  {
   "cell_type": "code",
   "execution_count": 119,
   "id": "d8de4e5b",
   "metadata": {
    "scrolled": true
   },
   "outputs": [
    {
     "data": {
      "text/plain": [
       "<AxesSubplot:ylabel='Purchase'>"
      ]
     },
     "execution_count": 119,
     "metadata": {},
     "output_type": "execute_result"
    },
    {
     "data": {
      "image/png": "[encoded data removed]",
      "text/plain": [
       "<Figure size 432x288 with 1 Axes>"
      ]
     },
     "metadata": {},
     "output_type": "display_data"
    }
   ],
   "source": [
    "cityB.groupby(['Stay_In_Current_City_Years']).sum().plot(kind ='pie',y = 'Purchase')"
   ]
  },
  {
   "cell_type": "markdown",
   "id": "756cec0a",
   "metadata": {},
   "source": [
    "Here People who have lived less then 1 year close to 0 years have the least Purchase Value and Those lived Around ! year has the highest."
   ]
  },
  {
   "cell_type": "code",
   "execution_count": 120,
   "id": "d76e21ea",
   "metadata": {},
   "outputs": [
    {
     "name": "stdout",
     "output_type": "stream",
     "text": [
      "1663807476\n"
     ]
    },
    {
     "data": {
      "image/png": "[encoded data removed]",
      "text/plain": [
       "<Figure size 432x288 with 1 Axes>"
      ]
     },
     "metadata": {},
     "output_type": "display_data"
    }
   ],
   "source": [
    "cityC = df[df['City_Category'] == 'C']\n",
    "purchaseC = cityC['Purchase'].sum()\n",
    "print(purchaseC)\n",
    "Product1Sales_CityC = cityC['Product_Category_1'].sum()\n",
    "Product2Sales_CityC = cityC['Product_Category_2'].sum()\n",
    "Product3Sales_CityC = cityC['Product_Category_3'].sum()\n",
    "ProductSales_cityC = [Product1Sales_CityC,Product2Sales_CityC,Product3Sales_CityC]\n",
    "plt.bar(['Product1Sales_CityC','Product2Sales_CityC','Product3Sales_CityC'],ProductSales_cityC)\n",
    "plt.show()"
   ]
  },
  {
   "cell_type": "markdown",
   "id": "09438515",
   "metadata": {},
   "source": [
    "For city C , The sales of Product 2 is the maximum"
   ]
  },
  {
   "cell_type": "code",
   "execution_count": 121,
   "id": "dc9af5f3",
   "metadata": {
    "scrolled": true
   },
   "outputs": [
    {
     "data": {
      "text/html": [
       "<div>\n",
       "<style scoped>\n",
       "    .dataframe tbody tr th:only-of-type {\n",
       "        vertical-align: middle;\n",
       "    }\n",
       "\n",
       "    .dataframe tbody tr th {\n",
       "        vertical-align: top;\n",
       "    }\n",
       "\n",
       "    .dataframe thead th {\n",
       "        text-align: right;\n",
       "    }\n",
       "</style>\n",
       "<table border=\"1\" class=\"dataframe\">\n",
       "  <thead>\n",
       "    <tr style=\"text-align: right;\">\n",
       "      <th></th>\n",
       "      <th>User_ID</th>\n",
       "      <th>Product_ID</th>\n",
       "      <th>City_Category</th>\n",
       "      <th>Stay_In_Current_City_Years</th>\n",
       "      <th>Marital_Status</th>\n",
       "      <th>Product_Category_1</th>\n",
       "      <th>Product_Category_2</th>\n",
       "      <th>Product_Category_3</th>\n",
       "      <th>Purchase</th>\n",
       "      <th>Gender</th>\n",
       "      <th>Age</th>\n",
       "      <th>Occupation</th>\n",
       "      <th>City_Code</th>\n",
       "      <th>State_Code</th>\n",
       "      <th>Zip_Code</th>\n",
       "      <th>City_Name</th>\n",
       "      <th>State</th>\n",
       "    </tr>\n",
       "  </thead>\n",
       "  <tbody>\n",
       "    <tr>\n",
       "      <th>4</th>\n",
       "      <td>1000002</td>\n",
       "      <td>P00285442</td>\n",
       "      <td>C</td>\n",
       "      <td>4+</td>\n",
       "      <td>0</td>\n",
       "      <td>8</td>\n",
       "      <td>NaN</td>\n",
       "      <td>NaN</td>\n",
       "      <td>7969</td>\n",
       "      <td>M</td>\n",
       "      <td>55+</td>\n",
       "      <td>16</td>\n",
       "      <td>C259</td>\n",
       "      <td>S16</td>\n",
       "      <td>42420</td>\n",
       "      <td>Henderson</td>\n",
       "      <td>Kentucky</td>\n",
       "    </tr>\n",
       "    <tr>\n",
       "      <th>19</th>\n",
       "      <td>1000008</td>\n",
       "      <td>P00249542</td>\n",
       "      <td>C</td>\n",
       "      <td>4+</td>\n",
       "      <td>1</td>\n",
       "      <td>1</td>\n",
       "      <td>5.0</td>\n",
       "      <td>15.0</td>\n",
       "      <td>19614</td>\n",
       "      <td>M</td>\n",
       "      <td>26-35</td>\n",
       "      <td>12</td>\n",
       "      <td>C64</td>\n",
       "      <td>S04</td>\n",
       "      <td>90032</td>\n",
       "      <td>Los Angeles</td>\n",
       "      <td>California</td>\n",
       "    </tr>\n",
       "    <tr>\n",
       "      <th>20</th>\n",
       "      <td>1000008</td>\n",
       "      <td>P00220442</td>\n",
       "      <td>C</td>\n",
       "      <td>4+</td>\n",
       "      <td>1</td>\n",
       "      <td>5</td>\n",
       "      <td>14.0</td>\n",
       "      <td>NaN</td>\n",
       "      <td>8584</td>\n",
       "      <td>M</td>\n",
       "      <td>26-35</td>\n",
       "      <td>12</td>\n",
       "      <td>C64</td>\n",
       "      <td>S04</td>\n",
       "      <td>90032</td>\n",
       "      <td>Los Angeles</td>\n",
       "      <td>California</td>\n",
       "    </tr>\n",
       "    <tr>\n",
       "      <th>21</th>\n",
       "      <td>1000008</td>\n",
       "      <td>P00156442</td>\n",
       "      <td>C</td>\n",
       "      <td>4+</td>\n",
       "      <td>1</td>\n",
       "      <td>8</td>\n",
       "      <td>NaN</td>\n",
       "      <td>NaN</td>\n",
       "      <td>9872</td>\n",
       "      <td>M</td>\n",
       "      <td>26-35</td>\n",
       "      <td>12</td>\n",
       "      <td>C64</td>\n",
       "      <td>S04</td>\n",
       "      <td>90032</td>\n",
       "      <td>Los Angeles</td>\n",
       "      <td>California</td>\n",
       "    </tr>\n",
       "    <tr>\n",
       "      <th>22</th>\n",
       "      <td>1000008</td>\n",
       "      <td>P00213742</td>\n",
       "      <td>C</td>\n",
       "      <td>4+</td>\n",
       "      <td>1</td>\n",
       "      <td>8</td>\n",
       "      <td>NaN</td>\n",
       "      <td>NaN</td>\n",
       "      <td>9743</td>\n",
       "      <td>M</td>\n",
       "      <td>26-35</td>\n",
       "      <td>12</td>\n",
       "      <td>C64</td>\n",
       "      <td>S04</td>\n",
       "      <td>90032</td>\n",
       "      <td>Los Angeles</td>\n",
       "      <td>California</td>\n",
       "    </tr>\n",
       "    <tr>\n",
       "      <th>...</th>\n",
       "      <td>...</td>\n",
       "      <td>...</td>\n",
       "      <td>...</td>\n",
       "      <td>...</td>\n",
       "      <td>...</td>\n",
       "      <td>...</td>\n",
       "      <td>...</td>\n",
       "      <td>...</td>\n",
       "      <td>...</td>\n",
       "      <td>...</td>\n",
       "      <td>...</td>\n",
       "      <td>...</td>\n",
       "      <td>...</td>\n",
       "      <td>...</td>\n",
       "      <td>...</td>\n",
       "      <td>...</td>\n",
       "      <td>...</td>\n",
       "    </tr>\n",
       "    <tr>\n",
       "      <th>550057</th>\n",
       "      <td>1006023</td>\n",
       "      <td>P00370853</td>\n",
       "      <td>C</td>\n",
       "      <td>2</td>\n",
       "      <td>1</td>\n",
       "      <td>19</td>\n",
       "      <td>NaN</td>\n",
       "      <td>NaN</td>\n",
       "      <td>61</td>\n",
       "      <td>M</td>\n",
       "      <td>26-35</td>\n",
       "      <td>0</td>\n",
       "      <td>C489</td>\n",
       "      <td>S41</td>\n",
       "      <td>37918</td>\n",
       "      <td>Knoxville</td>\n",
       "      <td>Tennessee</td>\n",
       "    </tr>\n",
       "    <tr>\n",
       "      <th>550060</th>\n",
       "      <td>1006026</td>\n",
       "      <td>P00371644</td>\n",
       "      <td>C</td>\n",
       "      <td>1</td>\n",
       "      <td>1</td>\n",
       "      <td>20</td>\n",
       "      <td>NaN</td>\n",
       "      <td>NaN</td>\n",
       "      <td>494</td>\n",
       "      <td>M</td>\n",
       "      <td>36-45</td>\n",
       "      <td>6</td>\n",
       "      <td>C489</td>\n",
       "      <td>S41</td>\n",
       "      <td>37918</td>\n",
       "      <td>Knoxville</td>\n",
       "      <td>Tennessee</td>\n",
       "    </tr>\n",
       "    <tr>\n",
       "      <th>550061</th>\n",
       "      <td>1006029</td>\n",
       "      <td>P00372445</td>\n",
       "      <td>C</td>\n",
       "      <td>1</td>\n",
       "      <td>1</td>\n",
       "      <td>20</td>\n",
       "      <td>NaN</td>\n",
       "      <td>NaN</td>\n",
       "      <td>599</td>\n",
       "      <td>F</td>\n",
       "      <td>26-35</td>\n",
       "      <td>1</td>\n",
       "      <td>C338</td>\n",
       "      <td>S36</td>\n",
       "      <td>97477</td>\n",
       "      <td>Springfield</td>\n",
       "      <td>Oregon</td>\n",
       "    </tr>\n",
       "    <tr>\n",
       "      <th>550064</th>\n",
       "      <td>1006035</td>\n",
       "      <td>P00375436</td>\n",
       "      <td>C</td>\n",
       "      <td>3</td>\n",
       "      <td>0</td>\n",
       "      <td>20</td>\n",
       "      <td>NaN</td>\n",
       "      <td>NaN</td>\n",
       "      <td>371</td>\n",
       "      <td>F</td>\n",
       "      <td>26-35</td>\n",
       "      <td>1</td>\n",
       "      <td>C64</td>\n",
       "      <td>S04</td>\n",
       "      <td>90049</td>\n",
       "      <td>Los Angeles</td>\n",
       "      <td>California</td>\n",
       "    </tr>\n",
       "    <tr>\n",
       "      <th>550066</th>\n",
       "      <td>1006038</td>\n",
       "      <td>P00375436</td>\n",
       "      <td>C</td>\n",
       "      <td>2</td>\n",
       "      <td>0</td>\n",
       "      <td>20</td>\n",
       "      <td>NaN</td>\n",
       "      <td>NaN</td>\n",
       "      <td>365</td>\n",
       "      <td>F</td>\n",
       "      <td>55+</td>\n",
       "      <td>1</td>\n",
       "      <td>C235</td>\n",
       "      <td>S20</td>\n",
       "      <td>1841</td>\n",
       "      <td>Lawrence</td>\n",
       "      <td>Massachusetts</td>\n",
       "    </tr>\n",
       "  </tbody>\n",
       "</table>\n",
       "<p>171175 rows × 17 columns</p>\n",
       "</div>"
      ],
      "text/plain": [
       "        User_ID Product_ID City_Category Stay_In_Current_City_Years  \\\n",
       "4       1000002  P00285442             C                         4+   \n",
       "19      1000008  P00249542             C                         4+   \n",
       "20      1000008  P00220442             C                         4+   \n",
       "21      1000008  P00156442             C                         4+   \n",
       "22      1000008  P00213742             C                         4+   \n",
       "...         ...        ...           ...                        ...   \n",
       "550057  1006023  P00370853             C                          2   \n",
       "550060  1006026  P00371644             C                          1   \n",
       "550061  1006029  P00372445             C                          1   \n",
       "550064  1006035  P00375436             C                          3   \n",
       "550066  1006038  P00375436             C                          2   \n",
       "\n",
       "        Marital_Status  Product_Category_1  Product_Category_2  \\\n",
       "4                    0                   8                 NaN   \n",
       "19                   1                   1                 5.0   \n",
       "20                   1                   5                14.0   \n",
       "21                   1                   8                 NaN   \n",
       "22                   1                   8                 NaN   \n",
       "...                ...                 ...                 ...   \n",
       "550057               1                  19                 NaN   \n",
       "550060               1                  20                 NaN   \n",
       "550061               1                  20                 NaN   \n",
       "550064               0                  20                 NaN   \n",
       "550066               0                  20                 NaN   \n",
       "\n",
       "        Product_Category_3  Purchase Gender    Age  Occupation City_Code  \\\n",
       "4                      NaN      7969      M    55+          16      C259   \n",
       "19                    15.0     19614      M  26-35          12       C64   \n",
       "20                     NaN      8584      M  26-35          12       C64   \n",
       "21                     NaN      9872      M  26-35          12       C64   \n",
       "22                     NaN      9743      M  26-35          12       C64   \n",
       "...                    ...       ...    ...    ...         ...       ...   \n",
       "550057                 NaN        61      M  26-35           0      C489   \n",
       "550060                 NaN       494      M  36-45           6      C489   \n",
       "550061                 NaN       599      F  26-35           1      C338   \n",
       "550064                 NaN       371      F  26-35           1       C64   \n",
       "550066                 NaN       365      F    55+           1      C235   \n",
       "\n",
       "       State_Code  Zip_Code    City_Name          State  \n",
       "4             S16     42420    Henderson       Kentucky  \n",
       "19            S04     90032  Los Angeles     California  \n",
       "20            S04     90032  Los Angeles     California  \n",
       "21            S04     90032  Los Angeles     California  \n",
       "22            S04     90032  Los Angeles     California  \n",
       "...           ...       ...          ...            ...  \n",
       "550057        S41     37918    Knoxville      Tennessee  \n",
       "550060        S41     37918    Knoxville      Tennessee  \n",
       "550061        S36     97477  Springfield         Oregon  \n",
       "550064        S04     90049  Los Angeles     California  \n",
       "550066        S20      1841     Lawrence  Massachusetts  \n",
       "\n",
       "[171175 rows x 17 columns]"
      ]
     },
     "execution_count": 121,
     "metadata": {},
     "output_type": "execute_result"
    },
    {
     "data": {
      "image/png": "[encoded data removed]",
      "text/plain": [
       "<Figure size 432x288 with 1 Axes>"
      ]
     },
     "metadata": {},
     "output_type": "display_data"
    }
   ],
   "source": [
    "cityC.groupby(['Stay_In_Current_City_Years']).sum().plot(kind ='pie',y = 'Purchase')\n",
    "cityC"
   ]
  },
  {
   "cell_type": "markdown",
   "id": "be972b64",
   "metadata": {},
   "source": [
    "Here People who have lived less then 1 year close to 0 years have the least Purchase Value and Those lived Around ! year has the highest."
   ]
  },
  {
   "cell_type": "code",
   "execution_count": 122,
   "id": "67c134b8",
   "metadata": {},
   "outputs": [],
   "source": [
    "purchase = [purchaseA,purchaseB,purchaseC]"
   ]
  },
  {
   "cell_type": "markdown",
   "id": "c3590cae",
   "metadata": {},
   "source": [
    "Now, the Total purchase is compared for Each city"
   ]
  },
  {
   "cell_type": "code",
   "execution_count": 123,
   "id": "40487074",
   "metadata": {},
   "outputs": [
    {
     "data": {
      "image/png": "[encoded data removed]",
      "text/plain": [
       "<Figure size 432x288 with 1 Axes>"
      ]
     },
     "metadata": {},
     "output_type": "display_data"
    }
   ],
   "source": [
    "plt.bar(['A','B','C'],purchase)\n",
    "plt.show()"
   ]
  },
  {
   "cell_type": "markdown",
   "id": "0a483ef6",
   "metadata": {},
   "source": [
    "Total Purchase is Highest for City B and least for City A"
   ]
  },
  {
   "cell_type": "code",
   "execution_count": 124,
   "id": "df183af3",
   "metadata": {},
   "outputs": [],
   "source": [
    "import os\n",
    "import subprocess\n",
    "import stat\n",
    "import numpy as np\n",
    "import seaborn as sns\n",
    "from datetime import datetime\n",
    "sns.set(style=\"white\")"
   ]
  },
  {
   "cell_type": "code",
   "execution_count": 133,
   "id": "c2576f98",
   "metadata": {},
   "outputs": [
    {
     "data": {
      "text/plain": [
       "<AxesSubplot:xlabel='City_Name'>"
      ]
     },
     "execution_count": 133,
     "metadata": {},
     "output_type": "execute_result"
    },
    {
     "data": {
      "image/png": "[encoded data removed]",
      "text/plain": [
       "<Figure size 432x288 with 1 Axes>"
      ]
     },
     "metadata": {},
     "output_type": "display_data"
    }
   ],
   "source": [
    "dfs=df[['City_Name','Purchase']]\n",
    "dfs.groupby('City_Name')['Purchase'].sum().sort_values(ascending=False).head(10).plot(kind='bar')"
   ]
  },
  {
   "cell_type": "markdown",
   "id": "9a286881",
   "metadata": {},
   "source": [
    "Here, The Top 10 city with The Maximum Purchase Value has been shown"
   ]
  },
  {
   "cell_type": "code",
   "execution_count": 134,
   "id": "71746efb",
   "metadata": {},
   "outputs": [
    {
     "data": {
      "text/plain": [
       "<AxesSubplot:xlabel='Age'>"
      ]
     },
     "execution_count": 134,
     "metadata": {},
     "output_type": "execute_result"
    },
    {
     "data": {
      "image/png": "[encoded data removed]",
      "text/plain": [
       "<Figure size 432x288 with 1 Axes>"
      ]
     },
     "metadata": {},
     "output_type": "display_data"
    }
   ],
   "source": [
    "dfs=df[['Age','Purchase']]\n",
    "dfs.groupby('Age')['Purchase'].sum().sort_values(ascending=False).head(10).plot(kind='bar')"
   ]
  },
  {
   "cell_type": "markdown",
   "id": "d1612a18",
   "metadata": {},
   "source": [
    "Here the Purchase Amount for different age groups has been compared. Age group 26-35 Has the highest Purchase Value and Age group 55+ and 0-17 has the least Purchase Value\n",
    "A personalised Discount can be provided to Them."
   ]
  },
  {
   "cell_type": "code",
   "execution_count": 135,
   "id": "ef455823",
   "metadata": {
    "scrolled": true
   },
   "outputs": [
    {
     "data": {
      "text/plain": [
       "<AxesSubplot:xlabel='User_ID'>"
      ]
     },
     "execution_count": 135,
     "metadata": {},
     "output_type": "execute_result"
    },
    {
     "data": {
      "image/png": "[encoded data removed]",
      "text/plain": [
       "<Figure size 432x288 with 1 Axes>"
      ]
     },
     "metadata": {},
     "output_type": "display_data"
    }
   ],
   "source": [
    "dfs=df[['User_ID','Purchase']]\n",
    "dfs.groupby('User_ID')['Purchase'].sum().sort_values(ascending=False).head(10).plot(kind='bar')"
   ]
  },
  {
   "cell_type": "markdown",
   "id": "21a96e17",
   "metadata": {},
   "source": [
    "Here, The users with Highest Purchase Amount are shown. They can be given special Vouchers to keep them up."
   ]
  },
  {
   "cell_type": "code",
   "execution_count": 136,
   "id": "a63c11e2",
   "metadata": {},
   "outputs": [
    {
     "data": {
      "text/plain": [
       "<AxesSubplot:xlabel='City_Name'>"
      ]
     },
     "execution_count": 136,
     "metadata": {},
     "output_type": "execute_result"
    },
    {
     "data": {
      "image/png": "[encoded data removed]",
      "text/plain": [
       "<Figure size 432x288 with 1 Axes>"
      ]
     },
     "metadata": {},
     "output_type": "display_data"
    }
   ],
   "source": [
    "dfs=df[['City_Name','Purchase']]\n",
    "dfs.groupby('City_Name')['Purchase'].sum().sort_values(ascending=True).head(10).plot(kind='bar')"
   ]
  },
  {
   "cell_type": "markdown",
   "id": "943fba0e",
   "metadata": {},
   "source": [
    "Here ten cities with least Purchase Values is shown"
   ]
  },
  {
   "cell_type": "code",
   "execution_count": 137,
   "id": "b18c38ef",
   "metadata": {},
   "outputs": [
    {
     "data": {
      "text/plain": [
       "<AxesSubplot:xlabel='Product_ID'>"
      ]
     },
     "execution_count": 137,
     "metadata": {},
     "output_type": "execute_result"
    },
    {
     "data": {
      "image/png": "[encoded data removed]",
      "text/plain": [
       "<Figure size 432x288 with 1 Axes>"
      ]
     },
     "metadata": {},
     "output_type": "display_data"
    }
   ],
   "source": [
    "dfs=df[['Product_ID','Purchase']]\n",
    "dfs.groupby('Product_ID')['Purchase'].sum().sort_values(ascending=False).head(10).plot(kind='bar')"
   ]
  },
  {
   "cell_type": "markdown",
   "id": "2162bff2",
   "metadata": {},
   "source": [
    "Products that are sold for the highest amount"
   ]
  },
  {
   "cell_type": "code",
   "execution_count": 138,
   "id": "a6ec6c99",
   "metadata": {},
   "outputs": [
    {
     "data": {
      "text/plain": [
       "<AxesSubplot:xlabel='Product_ID'>"
      ]
     },
     "execution_count": 138,
     "metadata": {},
     "output_type": "execute_result"
    },
    {
     "data": {
      "image/png": "[encoded data removed]",
      "text/plain": [
       "<Figure size 432x288 with 1 Axes>"
      ]
     },
     "metadata": {},
     "output_type": "display_data"
    }
   ],
   "source": [
    "dfs=df[['Product_ID','Purchase']]\n",
    "dfs.groupby('Product_ID')['Purchase'].sum().sort_values(ascending=True).head(10).plot(kind='bar')"
   ]
  },
  {
   "cell_type": "markdown",
   "id": "8e842fbc",
   "metadata": {},
   "source": [
    "Products That are sold for the least Purchase amount"
   ]
  },
  {
   "cell_type": "markdown",
   "id": "226f319b",
   "metadata": {},
   "source": [
    "Special Discounts can be given on these products to increase sales"
   ]
  }
 ],
 "metadata": {
  "kernelspec": {
   "display_name": "Python 3 (ipykernel)",
   "language": "python",
   "name": "python3"
  },
  "language_info": {
   "codemirror_mode": {
    "name": "ipython",
    "version": 3
   },
   "file_extension": ".py",
   "mimetype": "text/x-python",
   "name": "python",
   "nbconvert_exporter": "python",
   "pygments_lexer": "ipython3",
   "version": "3.9.12"
  }
 },
 "nbformat": 4,
 "nbformat_minor": 5
}
